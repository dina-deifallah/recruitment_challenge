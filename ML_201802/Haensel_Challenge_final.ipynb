{
 "cells": [
  {
   "cell_type": "markdown",
   "metadata": {},
   "source": [
    "# HAENSEL-AMS Challenge"
   ]
  },
  {
   "cell_type": "markdown",
   "metadata": {},
   "source": [
    "### 1. Importing Libraries"
   ]
  },
  {
   "cell_type": "code",
   "execution_count": 1,
   "metadata": {
    "collapsed": true
   },
   "outputs": [],
   "source": [
    "#importing the basic libraries\n",
    "\n",
    "import pandas as pd\n",
    "import numpy as np\n",
    "import matplotlib.pyplot as plt\n",
    "import seaborn as sns\n",
    "%matplotlib inline"
   ]
  },
  {
   "cell_type": "markdown",
   "metadata": {},
   "source": [
    "### 2. Loading Dataset and Checking the Data"
   ]
  },
  {
   "cell_type": "code",
   "execution_count": 2,
   "metadata": {
    "collapsed": true
   },
   "outputs": [],
   "source": [
    "df = pd.read_csv('sample.csv',header = None, skipinitialspace = True ) # assuming here data is in the working directory."
   ]
  },
  {
   "cell_type": "code",
   "execution_count": 3,
   "metadata": {},
   "outputs": [
    {
     "data": {
      "text/plain": [
       "(66137, 296)"
      ]
     },
     "execution_count": 3,
     "metadata": {},
     "output_type": "execute_result"
    }
   ],
   "source": [
    "df.shape"
   ]
  },
  {
   "cell_type": "code",
   "execution_count": 4,
   "metadata": {},
   "outputs": [
    {
     "name": "stdout",
     "output_type": "stream",
     "text": [
      "<class 'pandas.core.frame.DataFrame'>\n",
      "RangeIndex: 66137 entries, 0 to 66136\n",
      "Columns: 296 entries, 0 to 295\n",
      "dtypes: float64(4), int64(291), object(1)\n",
      "memory usage: 149.4+ MB\n"
     ]
    }
   ],
   "source": [
    "df.info()"
   ]
  },
  {
   "cell_type": "code",
   "execution_count": 5,
   "metadata": {},
   "outputs": [
    {
     "data": {
      "text/html": [
       "<div>\n",
       "<style scoped>\n",
       "    .dataframe tbody tr th:only-of-type {\n",
       "        vertical-align: middle;\n",
       "    }\n",
       "\n",
       "    .dataframe tbody tr th {\n",
       "        vertical-align: top;\n",
       "    }\n",
       "\n",
       "    .dataframe thead th {\n",
       "        text-align: right;\n",
       "    }\n",
       "</style>\n",
       "<table border=\"1\" class=\"dataframe\">\n",
       "  <thead>\n",
       "    <tr style=\"text-align: right;\">\n",
       "      <th></th>\n",
       "      <th>0</th>\n",
       "      <th>1</th>\n",
       "      <th>2</th>\n",
       "      <th>3</th>\n",
       "      <th>4</th>\n",
       "      <th>5</th>\n",
       "      <th>6</th>\n",
       "      <th>7</th>\n",
       "      <th>8</th>\n",
       "      <th>9</th>\n",
       "      <th>...</th>\n",
       "      <th>286</th>\n",
       "      <th>287</th>\n",
       "      <th>288</th>\n",
       "      <th>289</th>\n",
       "      <th>290</th>\n",
       "      <th>291</th>\n",
       "      <th>292</th>\n",
       "      <th>293</th>\n",
       "      <th>294</th>\n",
       "      <th>295</th>\n",
       "    </tr>\n",
       "  </thead>\n",
       "  <tbody>\n",
       "    <tr>\n",
       "      <th>0</th>\n",
       "      <td>0</td>\n",
       "      <td>0</td>\n",
       "      <td>0</td>\n",
       "      <td>20000.0</td>\n",
       "      <td>0</td>\n",
       "      <td>0</td>\n",
       "      <td>1</td>\n",
       "      <td>0</td>\n",
       "      <td>0</td>\n",
       "      <td>0</td>\n",
       "      <td>...</td>\n",
       "      <td>0</td>\n",
       "      <td>0</td>\n",
       "      <td>0</td>\n",
       "      <td>0</td>\n",
       "      <td>0</td>\n",
       "      <td>1</td>\n",
       "      <td>0</td>\n",
       "      <td>0</td>\n",
       "      <td>259.227165</td>\n",
       "      <td>B</td>\n",
       "    </tr>\n",
       "    <tr>\n",
       "      <th>1</th>\n",
       "      <td>0</td>\n",
       "      <td>0</td>\n",
       "      <td>0</td>\n",
       "      <td>7059.0</td>\n",
       "      <td>0</td>\n",
       "      <td>0</td>\n",
       "      <td>1</td>\n",
       "      <td>0</td>\n",
       "      <td>0</td>\n",
       "      <td>0</td>\n",
       "      <td>...</td>\n",
       "      <td>0</td>\n",
       "      <td>0</td>\n",
       "      <td>0</td>\n",
       "      <td>0</td>\n",
       "      <td>0</td>\n",
       "      <td>0</td>\n",
       "      <td>1</td>\n",
       "      <td>0</td>\n",
       "      <td>271.983584</td>\n",
       "      <td>E</td>\n",
       "    </tr>\n",
       "    <tr>\n",
       "      <th>2</th>\n",
       "      <td>0</td>\n",
       "      <td>0</td>\n",
       "      <td>0</td>\n",
       "      <td>3150.0</td>\n",
       "      <td>0</td>\n",
       "      <td>0</td>\n",
       "      <td>1</td>\n",
       "      <td>0</td>\n",
       "      <td>0</td>\n",
       "      <td>0</td>\n",
       "      <td>...</td>\n",
       "      <td>0</td>\n",
       "      <td>0</td>\n",
       "      <td>0</td>\n",
       "      <td>0</td>\n",
       "      <td>0</td>\n",
       "      <td>1</td>\n",
       "      <td>0</td>\n",
       "      <td>0</td>\n",
       "      <td>235.233437</td>\n",
       "      <td>D</td>\n",
       "    </tr>\n",
       "    <tr>\n",
       "      <th>3</th>\n",
       "      <td>0</td>\n",
       "      <td>0</td>\n",
       "      <td>0</td>\n",
       "      <td>24000.0</td>\n",
       "      <td>0</td>\n",
       "      <td>0</td>\n",
       "      <td>1</td>\n",
       "      <td>0</td>\n",
       "      <td>0</td>\n",
       "      <td>0</td>\n",
       "      <td>...</td>\n",
       "      <td>0</td>\n",
       "      <td>0</td>\n",
       "      <td>0</td>\n",
       "      <td>0</td>\n",
       "      <td>0</td>\n",
       "      <td>0</td>\n",
       "      <td>1</td>\n",
       "      <td>0</td>\n",
       "      <td>415.104389</td>\n",
       "      <td>C</td>\n",
       "    </tr>\n",
       "    <tr>\n",
       "      <th>4</th>\n",
       "      <td>0</td>\n",
       "      <td>0</td>\n",
       "      <td>0</td>\n",
       "      <td>5600.0</td>\n",
       "      <td>0</td>\n",
       "      <td>0</td>\n",
       "      <td>1</td>\n",
       "      <td>0</td>\n",
       "      <td>0</td>\n",
       "      <td>0</td>\n",
       "      <td>...</td>\n",
       "      <td>0</td>\n",
       "      <td>0</td>\n",
       "      <td>0</td>\n",
       "      <td>0</td>\n",
       "      <td>0</td>\n",
       "      <td>0</td>\n",
       "      <td>0</td>\n",
       "      <td>1</td>\n",
       "      <td>462.230610</td>\n",
       "      <td>D</td>\n",
       "    </tr>\n",
       "  </tbody>\n",
       "</table>\n",
       "<p>5 rows × 296 columns</p>\n",
       "</div>"
      ],
      "text/plain": [
       "   0    1    2        3    4    5    6    7    8    9   ...   286  287  288  \\\n",
       "0    0    0    0  20000.0    0    0    1    0    0    0 ...     0    0    0   \n",
       "1    0    0    0   7059.0    0    0    1    0    0    0 ...     0    0    0   \n",
       "2    0    0    0   3150.0    0    0    1    0    0    0 ...     0    0    0   \n",
       "3    0    0    0  24000.0    0    0    1    0    0    0 ...     0    0    0   \n",
       "4    0    0    0   5600.0    0    0    1    0    0    0 ...     0    0    0   \n",
       "\n",
       "   289  290  291  292  293         294  295  \n",
       "0    0    0    1    0    0  259.227165    B  \n",
       "1    0    0    0    1    0  271.983584    E  \n",
       "2    0    0    1    0    0  235.233437    D  \n",
       "3    0    0    0    1    0  415.104389    C  \n",
       "4    0    0    0    0    1  462.230610    D  \n",
       "\n",
       "[5 rows x 296 columns]"
      ]
     },
     "execution_count": 5,
     "metadata": {},
     "output_type": "execute_result"
    }
   ],
   "source": [
    "df.head()"
   ]
  },
  {
   "cell_type": "code",
   "execution_count": 6,
   "metadata": {},
   "outputs": [
    {
     "name": "stdout",
     "output_type": "stream",
     "text": [
      "(285,)\n",
      "{268, 269, 270, 271, 272, 273, 274, 179, 275, 276, 59}\n"
     ]
    }
   ],
   "source": [
    "# are there any constant columns? 11 cols are constant, store indices to drop in data cleaning step.\n",
    "\n",
    "df_unique = df.loc[:,df.apply(pd.Series.nunique) != 1].columns\n",
    "print(df_unique.shape)\n",
    "const_cols = set(df.columns)-set(df_unique)\n",
    "print(const_cols)\n"
   ]
  },
  {
   "cell_type": "code",
   "execution_count": 7,
   "metadata": {},
   "outputs": [
    {
     "data": {
      "text/html": [
       "<div>\n",
       "<style scoped>\n",
       "    .dataframe tbody tr th:only-of-type {\n",
       "        vertical-align: middle;\n",
       "    }\n",
       "\n",
       "    .dataframe tbody tr th {\n",
       "        vertical-align: top;\n",
       "    }\n",
       "\n",
       "    .dataframe thead th {\n",
       "        text-align: right;\n",
       "    }\n",
       "</style>\n",
       "<table border=\"1\" class=\"dataframe\">\n",
       "  <thead>\n",
       "    <tr style=\"text-align: right;\">\n",
       "      <th></th>\n",
       "      <th>0</th>\n",
       "      <th>1</th>\n",
       "      <th>2</th>\n",
       "      <th>3</th>\n",
       "      <th>4</th>\n",
       "      <th>5</th>\n",
       "      <th>6</th>\n",
       "      <th>7</th>\n",
       "      <th>8</th>\n",
       "      <th>9</th>\n",
       "      <th>...</th>\n",
       "      <th>285</th>\n",
       "      <th>286</th>\n",
       "      <th>287</th>\n",
       "      <th>288</th>\n",
       "      <th>289</th>\n",
       "      <th>290</th>\n",
       "      <th>291</th>\n",
       "      <th>292</th>\n",
       "      <th>293</th>\n",
       "      <th>294</th>\n",
       "    </tr>\n",
       "  </thead>\n",
       "  <tbody>\n",
       "    <tr>\n",
       "      <th>count</th>\n",
       "      <td>66137.000000</td>\n",
       "      <td>66137.000000</td>\n",
       "      <td>66137.000000</td>\n",
       "      <td>66137.000000</td>\n",
       "      <td>66137.000000</td>\n",
       "      <td>66137.000000</td>\n",
       "      <td>66137.000000</td>\n",
       "      <td>66137.000000</td>\n",
       "      <td>66137.000000</td>\n",
       "      <td>66137.000000</td>\n",
       "      <td>...</td>\n",
       "      <td>66137.000000</td>\n",
       "      <td>66137.000000</td>\n",
       "      <td>66137.000000</td>\n",
       "      <td>66137.000000</td>\n",
       "      <td>66137.000000</td>\n",
       "      <td>66137.000000</td>\n",
       "      <td>66137.000000</td>\n",
       "      <td>66137.000000</td>\n",
       "      <td>66137.000000</td>\n",
       "      <td>66137.000000</td>\n",
       "    </tr>\n",
       "    <tr>\n",
       "      <th>mean</th>\n",
       "      <td>0.004249</td>\n",
       "      <td>0.014757</td>\n",
       "      <td>0.003765</td>\n",
       "      <td>11226.207294</td>\n",
       "      <td>0.213511</td>\n",
       "      <td>0.049261</td>\n",
       "      <td>0.869498</td>\n",
       "      <td>0.030588</td>\n",
       "      <td>0.005867</td>\n",
       "      <td>0.004249</td>\n",
       "      <td>...</td>\n",
       "      <td>0.011522</td>\n",
       "      <td>0.002646</td>\n",
       "      <td>0.007258</td>\n",
       "      <td>0.007031</td>\n",
       "      <td>0.002933</td>\n",
       "      <td>0.257269</td>\n",
       "      <td>0.257934</td>\n",
       "      <td>0.179552</td>\n",
       "      <td>0.305245</td>\n",
       "      <td>454.969820</td>\n",
       "    </tr>\n",
       "    <tr>\n",
       "      <th>std</th>\n",
       "      <td>0.065044</td>\n",
       "      <td>0.120581</td>\n",
       "      <td>0.061244</td>\n",
       "      <td>8153.148240</td>\n",
       "      <td>0.609365</td>\n",
       "      <td>0.216415</td>\n",
       "      <td>0.336857</td>\n",
       "      <td>0.172200</td>\n",
       "      <td>0.076369</td>\n",
       "      <td>0.065044</td>\n",
       "      <td>...</td>\n",
       "      <td>0.106719</td>\n",
       "      <td>0.051372</td>\n",
       "      <td>0.084883</td>\n",
       "      <td>0.083556</td>\n",
       "      <td>0.054081</td>\n",
       "      <td>0.437132</td>\n",
       "      <td>0.437501</td>\n",
       "      <td>0.383816</td>\n",
       "      <td>0.460515</td>\n",
       "      <td>221.293898</td>\n",
       "    </tr>\n",
       "    <tr>\n",
       "      <th>min</th>\n",
       "      <td>0.000000</td>\n",
       "      <td>0.000000</td>\n",
       "      <td>0.000000</td>\n",
       "      <td>13.000000</td>\n",
       "      <td>0.000000</td>\n",
       "      <td>0.000000</td>\n",
       "      <td>0.000000</td>\n",
       "      <td>0.000000</td>\n",
       "      <td>0.000000</td>\n",
       "      <td>0.000000</td>\n",
       "      <td>...</td>\n",
       "      <td>0.000000</td>\n",
       "      <td>0.000000</td>\n",
       "      <td>0.000000</td>\n",
       "      <td>0.000000</td>\n",
       "      <td>0.000000</td>\n",
       "      <td>0.000000</td>\n",
       "      <td>0.000000</td>\n",
       "      <td>0.000000</td>\n",
       "      <td>0.000000</td>\n",
       "      <td>64.525593</td>\n",
       "    </tr>\n",
       "    <tr>\n",
       "      <th>25%</th>\n",
       "      <td>0.000000</td>\n",
       "      <td>0.000000</td>\n",
       "      <td>0.000000</td>\n",
       "      <td>4000.000000</td>\n",
       "      <td>0.000000</td>\n",
       "      <td>0.000000</td>\n",
       "      <td>1.000000</td>\n",
       "      <td>0.000000</td>\n",
       "      <td>0.000000</td>\n",
       "      <td>0.000000</td>\n",
       "      <td>...</td>\n",
       "      <td>0.000000</td>\n",
       "      <td>0.000000</td>\n",
       "      <td>0.000000</td>\n",
       "      <td>0.000000</td>\n",
       "      <td>0.000000</td>\n",
       "      <td>0.000000</td>\n",
       "      <td>0.000000</td>\n",
       "      <td>0.000000</td>\n",
       "      <td>0.000000</td>\n",
       "      <td>300.863033</td>\n",
       "    </tr>\n",
       "    <tr>\n",
       "      <th>50%</th>\n",
       "      <td>0.000000</td>\n",
       "      <td>0.000000</td>\n",
       "      <td>0.000000</td>\n",
       "      <td>9614.800000</td>\n",
       "      <td>0.000000</td>\n",
       "      <td>0.000000</td>\n",
       "      <td>1.000000</td>\n",
       "      <td>0.000000</td>\n",
       "      <td>0.000000</td>\n",
       "      <td>0.000000</td>\n",
       "      <td>...</td>\n",
       "      <td>0.000000</td>\n",
       "      <td>0.000000</td>\n",
       "      <td>0.000000</td>\n",
       "      <td>0.000000</td>\n",
       "      <td>0.000000</td>\n",
       "      <td>0.000000</td>\n",
       "      <td>0.000000</td>\n",
       "      <td>0.000000</td>\n",
       "      <td>0.000000</td>\n",
       "      <td>424.698119</td>\n",
       "    </tr>\n",
       "    <tr>\n",
       "      <th>75%</th>\n",
       "      <td>0.000000</td>\n",
       "      <td>0.000000</td>\n",
       "      <td>0.000000</td>\n",
       "      <td>18984.000000</td>\n",
       "      <td>0.000000</td>\n",
       "      <td>0.000000</td>\n",
       "      <td>1.000000</td>\n",
       "      <td>0.000000</td>\n",
       "      <td>0.000000</td>\n",
       "      <td>0.000000</td>\n",
       "      <td>...</td>\n",
       "      <td>0.000000</td>\n",
       "      <td>0.000000</td>\n",
       "      <td>0.000000</td>\n",
       "      <td>0.000000</td>\n",
       "      <td>0.000000</td>\n",
       "      <td>1.000000</td>\n",
       "      <td>1.000000</td>\n",
       "      <td>0.000000</td>\n",
       "      <td>1.000000</td>\n",
       "      <td>575.044994</td>\n",
       "    </tr>\n",
       "    <tr>\n",
       "      <th>max</th>\n",
       "      <td>1.000000</td>\n",
       "      <td>1.000000</td>\n",
       "      <td>1.000000</td>\n",
       "      <td>72360.000000</td>\n",
       "      <td>10.000000</td>\n",
       "      <td>1.000000</td>\n",
       "      <td>1.000000</td>\n",
       "      <td>1.000000</td>\n",
       "      <td>1.000000</td>\n",
       "      <td>1.000000</td>\n",
       "      <td>...</td>\n",
       "      <td>1.000000</td>\n",
       "      <td>1.000000</td>\n",
       "      <td>1.000000</td>\n",
       "      <td>1.000000</td>\n",
       "      <td>1.000000</td>\n",
       "      <td>1.000000</td>\n",
       "      <td>1.000000</td>\n",
       "      <td>1.000000</td>\n",
       "      <td>1.000000</td>\n",
       "      <td>2922.908791</td>\n",
       "    </tr>\n",
       "  </tbody>\n",
       "</table>\n",
       "<p>8 rows × 295 columns</p>\n",
       "</div>"
      ],
      "text/plain": [
       "                0             1             2             3             4    \\\n",
       "count  66137.000000  66137.000000  66137.000000  66137.000000  66137.000000   \n",
       "mean       0.004249      0.014757      0.003765  11226.207294      0.213511   \n",
       "std        0.065044      0.120581      0.061244   8153.148240      0.609365   \n",
       "min        0.000000      0.000000      0.000000     13.000000      0.000000   \n",
       "25%        0.000000      0.000000      0.000000   4000.000000      0.000000   \n",
       "50%        0.000000      0.000000      0.000000   9614.800000      0.000000   \n",
       "75%        0.000000      0.000000      0.000000  18984.000000      0.000000   \n",
       "max        1.000000      1.000000      1.000000  72360.000000     10.000000   \n",
       "\n",
       "                5             6             7             8             9    \\\n",
       "count  66137.000000  66137.000000  66137.000000  66137.000000  66137.000000   \n",
       "mean       0.049261      0.869498      0.030588      0.005867      0.004249   \n",
       "std        0.216415      0.336857      0.172200      0.076369      0.065044   \n",
       "min        0.000000      0.000000      0.000000      0.000000      0.000000   \n",
       "25%        0.000000      1.000000      0.000000      0.000000      0.000000   \n",
       "50%        0.000000      1.000000      0.000000      0.000000      0.000000   \n",
       "75%        0.000000      1.000000      0.000000      0.000000      0.000000   \n",
       "max        1.000000      1.000000      1.000000      1.000000      1.000000   \n",
       "\n",
       "           ...                285           286           287           288  \\\n",
       "count      ...       66137.000000  66137.000000  66137.000000  66137.000000   \n",
       "mean       ...           0.011522      0.002646      0.007258      0.007031   \n",
       "std        ...           0.106719      0.051372      0.084883      0.083556   \n",
       "min        ...           0.000000      0.000000      0.000000      0.000000   \n",
       "25%        ...           0.000000      0.000000      0.000000      0.000000   \n",
       "50%        ...           0.000000      0.000000      0.000000      0.000000   \n",
       "75%        ...           0.000000      0.000000      0.000000      0.000000   \n",
       "max        ...           1.000000      1.000000      1.000000      1.000000   \n",
       "\n",
       "                289           290           291           292           293  \\\n",
       "count  66137.000000  66137.000000  66137.000000  66137.000000  66137.000000   \n",
       "mean       0.002933      0.257269      0.257934      0.179552      0.305245   \n",
       "std        0.054081      0.437132      0.437501      0.383816      0.460515   \n",
       "min        0.000000      0.000000      0.000000      0.000000      0.000000   \n",
       "25%        0.000000      0.000000      0.000000      0.000000      0.000000   \n",
       "50%        0.000000      0.000000      0.000000      0.000000      0.000000   \n",
       "75%        0.000000      1.000000      1.000000      0.000000      1.000000   \n",
       "max        1.000000      1.000000      1.000000      1.000000      1.000000   \n",
       "\n",
       "                294  \n",
       "count  66137.000000  \n",
       "mean     454.969820  \n",
       "std      221.293898  \n",
       "min       64.525593  \n",
       "25%      300.863033  \n",
       "50%      424.698119  \n",
       "75%      575.044994  \n",
       "max     2922.908791  \n",
       "\n",
       "[8 rows x 295 columns]"
      ]
     },
     "execution_count": 7,
     "metadata": {},
     "output_type": "execute_result"
    }
   ],
   "source": [
    "df.describe()"
   ]
  },
  {
   "cell_type": "code",
   "execution_count": 8,
   "metadata": {},
   "outputs": [
    {
     "data": {
      "text/plain": [
       "288"
      ]
     },
     "execution_count": 8,
     "metadata": {},
     "output_type": "execute_result"
    }
   ],
   "source": [
    "# 291 columns are int and the majority appear to be binary. How many columns are binary? \n",
    "\n",
    "bin_cols = [col for col in df.drop(295, axis=1) \n",
    "             if df.drop(295, axis=1)[col].dropna().value_counts().index.isin([0,1]).all()]\n",
    "len(bin_cols)\n"
   ]
  },
  {
   "cell_type": "code",
   "execution_count": 9,
   "metadata": {},
   "outputs": [
    {
     "data": {
      "text/plain": [
       "{3, 4, 23, 36, 43, 64, 294}"
      ]
     },
     "execution_count": 9,
     "metadata": {},
     "output_type": "execute_result"
    }
   ],
   "source": [
    "# 288 columns are binary and indices are stored in bin_cols. Which columns are not binary ?\n",
    "\n",
    "nonbin_cols = set(df.drop(295, axis=1).columns) - set(bin_cols)\n",
    "nonbin_cols"
   ]
  },
  {
   "cell_type": "code",
   "execution_count": 10,
   "metadata": {
    "collapsed": true
   },
   "outputs": [],
   "source": [
    "# What are the indices of the columns that are floats?\n",
    "\n",
    "float_cols = df.loc[:, df.dtypes == float].columns"
   ]
  },
  {
   "cell_type": "code",
   "execution_count": 11,
   "metadata": {},
   "outputs": [
    {
     "data": {
      "text/html": [
       "<div>\n",
       "<style scoped>\n",
       "    .dataframe tbody tr th:only-of-type {\n",
       "        vertical-align: middle;\n",
       "    }\n",
       "\n",
       "    .dataframe tbody tr th {\n",
       "        vertical-align: top;\n",
       "    }\n",
       "\n",
       "    .dataframe thead th {\n",
       "        text-align: right;\n",
       "    }\n",
       "</style>\n",
       "<table border=\"1\" class=\"dataframe\">\n",
       "  <thead>\n",
       "    <tr style=\"text-align: right;\">\n",
       "      <th></th>\n",
       "      <th>64</th>\n",
       "      <th>3</th>\n",
       "      <th>4</th>\n",
       "      <th>36</th>\n",
       "      <th>294</th>\n",
       "      <th>43</th>\n",
       "      <th>23</th>\n",
       "    </tr>\n",
       "  </thead>\n",
       "  <tbody>\n",
       "    <tr>\n",
       "      <th>count</th>\n",
       "      <td>66137.000000</td>\n",
       "      <td>66137.000000</td>\n",
       "      <td>66137.000000</td>\n",
       "      <td>6.613700e+04</td>\n",
       "      <td>66137.000000</td>\n",
       "      <td>66137.000000</td>\n",
       "      <td>66137.000000</td>\n",
       "    </tr>\n",
       "    <tr>\n",
       "      <th>mean</th>\n",
       "      <td>451.009060</td>\n",
       "      <td>11226.207294</td>\n",
       "      <td>0.213511</td>\n",
       "      <td>7.810669e+01</td>\n",
       "      <td>454.969820</td>\n",
       "      <td>9.611529</td>\n",
       "      <td>-0.981085</td>\n",
       "    </tr>\n",
       "    <tr>\n",
       "      <th>std</th>\n",
       "      <td>226.386943</td>\n",
       "      <td>8153.148240</td>\n",
       "      <td>0.609365</td>\n",
       "      <td>8.038195e+03</td>\n",
       "      <td>221.293898</td>\n",
       "      <td>4.687150</td>\n",
       "      <td>0.416764</td>\n",
       "    </tr>\n",
       "    <tr>\n",
       "      <th>min</th>\n",
       "      <td>30.000000</td>\n",
       "      <td>13.000000</td>\n",
       "      <td>0.000000</td>\n",
       "      <td>-3.620000e+02</td>\n",
       "      <td>64.525593</td>\n",
       "      <td>0.180000</td>\n",
       "      <td>-1.000000</td>\n",
       "    </tr>\n",
       "    <tr>\n",
       "      <th>25%</th>\n",
       "      <td>296.000000</td>\n",
       "      <td>4000.000000</td>\n",
       "      <td>0.000000</td>\n",
       "      <td>1.000000e+00</td>\n",
       "      <td>300.863033</td>\n",
       "      <td>5.600000</td>\n",
       "      <td>-1.000000</td>\n",
       "    </tr>\n",
       "    <tr>\n",
       "      <th>50%</th>\n",
       "      <td>429.000000</td>\n",
       "      <td>9614.800000</td>\n",
       "      <td>0.000000</td>\n",
       "      <td>1.000000e+00</td>\n",
       "      <td>424.698119</td>\n",
       "      <td>11.200000</td>\n",
       "      <td>-1.000000</td>\n",
       "    </tr>\n",
       "    <tr>\n",
       "      <th>75%</th>\n",
       "      <td>581.000000</td>\n",
       "      <td>18984.000000</td>\n",
       "      <td>0.000000</td>\n",
       "      <td>1.000000e+00</td>\n",
       "      <td>575.044994</td>\n",
       "      <td>13.600000</td>\n",
       "      <td>-1.000000</td>\n",
       "    </tr>\n",
       "    <tr>\n",
       "      <th>max</th>\n",
       "      <td>2833.000000</td>\n",
       "      <td>72360.000000</td>\n",
       "      <td>10.000000</td>\n",
       "      <td>1.460971e+06</td>\n",
       "      <td>2922.908791</td>\n",
       "      <td>31.000000</td>\n",
       "      <td>31.000000</td>\n",
       "    </tr>\n",
       "  </tbody>\n",
       "</table>\n",
       "</div>"
      ],
      "text/plain": [
       "                64            3             4             36            294  \\\n",
       "count  66137.000000  66137.000000  66137.000000  6.613700e+04  66137.000000   \n",
       "mean     451.009060  11226.207294      0.213511  7.810669e+01    454.969820   \n",
       "std      226.386943   8153.148240      0.609365  8.038195e+03    221.293898   \n",
       "min       30.000000     13.000000      0.000000 -3.620000e+02     64.525593   \n",
       "25%      296.000000   4000.000000      0.000000  1.000000e+00    300.863033   \n",
       "50%      429.000000   9614.800000      0.000000  1.000000e+00    424.698119   \n",
       "75%      581.000000  18984.000000      0.000000  1.000000e+00    575.044994   \n",
       "max     2833.000000  72360.000000     10.000000  1.460971e+06   2922.908791   \n",
       "\n",
       "                43            23   \n",
       "count  66137.000000  66137.000000  \n",
       "mean       9.611529     -0.981085  \n",
       "std        4.687150      0.416764  \n",
       "min        0.180000     -1.000000  \n",
       "25%        5.600000     -1.000000  \n",
       "50%       11.200000     -1.000000  \n",
       "75%       13.600000     -1.000000  \n",
       "max       31.000000     31.000000  "
      ]
     },
     "execution_count": 11,
     "metadata": {},
     "output_type": "execute_result"
    }
   ],
   "source": [
    "#What is the distribution of these non-binary columns/attributes?\n",
    "\n",
    "df.loc[:,nonbin_cols].describe()"
   ]
  },
  {
   "cell_type": "code",
   "execution_count": 12,
   "metadata": {},
   "outputs": [
    {
     "data": {
      "text/plain": [
       "(66137, 296)"
      ]
     },
     "execution_count": 12,
     "metadata": {},
     "output_type": "execute_result"
    }
   ],
   "source": [
    "# does the data have any missing data in the form of nans?\n",
    "\n",
    "df.dropna().shape"
   ]
  },
  {
   "cell_type": "code",
   "execution_count": 16,
   "metadata": {},
   "outputs": [
    {
     "data": {
      "text/plain": [
       "C    46882\n",
       "D     9279\n",
       "B     6602\n",
       "E     2507\n",
       "A      867\n",
       "Name: 295, dtype: int64"
      ]
     },
     "execution_count": 16,
     "metadata": {},
     "output_type": "execute_result"
    }
   ],
   "source": [
    "# What is the representation of each target class in the data?\n",
    "\n",
    "df[295].value_counts()\n"
   ]
  },
  {
   "cell_type": "code",
   "execution_count": 17,
   "metadata": {},
   "outputs": [
    {
     "data": {
      "text/plain": [
       "C    70.886191\n",
       "D    14.029968\n",
       "B     9.982309\n",
       "E     3.790616\n",
       "A     1.310915\n",
       "Name: 295, dtype: float64"
      ]
     },
     "execution_count": 17,
     "metadata": {},
     "output_type": "execute_result"
    }
   ],
   "source": [
    "# What is the representation of each target class in the data in percentage?\n",
    "\n",
    "(df[295].value_counts()/df.shape[0])*100"
   ]
  },
  {
   "cell_type": "code",
   "execution_count": 18,
   "metadata": {},
   "outputs": [
    {
     "data": {
      "text/plain": [
       "<matplotlib.axes._subplots.AxesSubplot at 0x2d00239940>"
      ]
     },
     "execution_count": 18,
     "metadata": {},
     "output_type": "execute_result"
    },
    {
     "data": {
      "image/png": "[encoded data removed]",
      "text/plain": [
       "<matplotlib.figure.Figure at 0x2d0090ef98>"
      ]
     },
     "metadata": {},
     "output_type": "display_data"
    }
   ],
   "source": [
    "# Plotting the distribution of target classes\n",
    "\n",
    "sns.countplot(x=df[295], data=df, palette='Set1')"
   ]
  },
  {
   "cell_type": "markdown",
   "metadata": {},
   "source": [
    "** From the above data check the following observations can be stated:**\n",
    "\n",
    "- The data has no missing values in the form of NaNs.\n",
    "- There are eleven constant columns. These will be dropped in the data cleaning step.\n",
    "- The vast majority (288/295) of the attributes columns are binary. This can be because the columns represent dummy variables\n",
    "  of categorical attributes or because they represent pixels of a black and white image(The binary columns only).\n",
    "- There are four real-number/float attributes. Their distribution for every target class should be checked.\n",
    "- There are 3 non-binary integer attributes. Their distributions suggest they have extreme outliers. This must\n",
    "  be further investigated in the EDA step.\n",
    "- The response classes A to E are very unbalanced, with class C appearing in more than 70% of the instances. This is expected\n",
    "  to affect the performance of ML models. "
   ]
  },
  {
   "cell_type": "markdown",
   "metadata": {},
   "source": [
    "### 3. Exploratory Data Analysis and Data Cleaning"
   ]
  },
  {
   "cell_type": "code",
   "execution_count": 19,
   "metadata": {},
   "outputs": [
    {
     "data": {
      "text/html": [
       "<div>\n",
       "<style scoped>\n",
       "    .dataframe tbody tr th:only-of-type {\n",
       "        vertical-align: middle;\n",
       "    }\n",
       "\n",
       "    .dataframe tbody tr th {\n",
       "        vertical-align: top;\n",
       "    }\n",
       "\n",
       "    .dataframe thead th {\n",
       "        text-align: right;\n",
       "    }\n",
       "</style>\n",
       "<table border=\"1\" class=\"dataframe\">\n",
       "  <thead>\n",
       "    <tr style=\"text-align: right;\">\n",
       "      <th></th>\n",
       "      <th>3</th>\n",
       "      <th>4</th>\n",
       "      <th>23</th>\n",
       "      <th>36</th>\n",
       "      <th>43</th>\n",
       "      <th>64</th>\n",
       "      <th>294</th>\n",
       "    </tr>\n",
       "  </thead>\n",
       "  <tbody>\n",
       "    <tr>\n",
       "      <th>count</th>\n",
       "      <td>66137.000000</td>\n",
       "      <td>66137.000000</td>\n",
       "      <td>66137.000000</td>\n",
       "      <td>6.613700e+04</td>\n",
       "      <td>66137.000000</td>\n",
       "      <td>66137.000000</td>\n",
       "      <td>66137.000000</td>\n",
       "    </tr>\n",
       "    <tr>\n",
       "      <th>mean</th>\n",
       "      <td>11226.207294</td>\n",
       "      <td>0.213511</td>\n",
       "      <td>-0.981085</td>\n",
       "      <td>7.810669e+01</td>\n",
       "      <td>9.611529</td>\n",
       "      <td>451.009060</td>\n",
       "      <td>454.969820</td>\n",
       "    </tr>\n",
       "    <tr>\n",
       "      <th>std</th>\n",
       "      <td>8153.148240</td>\n",
       "      <td>0.609365</td>\n",
       "      <td>0.416764</td>\n",
       "      <td>8.038195e+03</td>\n",
       "      <td>4.687150</td>\n",
       "      <td>226.386943</td>\n",
       "      <td>221.293898</td>\n",
       "    </tr>\n",
       "    <tr>\n",
       "      <th>min</th>\n",
       "      <td>13.000000</td>\n",
       "      <td>0.000000</td>\n",
       "      <td>-1.000000</td>\n",
       "      <td>-3.620000e+02</td>\n",
       "      <td>0.180000</td>\n",
       "      <td>30.000000</td>\n",
       "      <td>64.525593</td>\n",
       "    </tr>\n",
       "    <tr>\n",
       "      <th>25%</th>\n",
       "      <td>4000.000000</td>\n",
       "      <td>0.000000</td>\n",
       "      <td>-1.000000</td>\n",
       "      <td>1.000000e+00</td>\n",
       "      <td>5.600000</td>\n",
       "      <td>296.000000</td>\n",
       "      <td>300.863033</td>\n",
       "    </tr>\n",
       "    <tr>\n",
       "      <th>50%</th>\n",
       "      <td>9614.800000</td>\n",
       "      <td>0.000000</td>\n",
       "      <td>-1.000000</td>\n",
       "      <td>1.000000e+00</td>\n",
       "      <td>11.200000</td>\n",
       "      <td>429.000000</td>\n",
       "      <td>424.698119</td>\n",
       "    </tr>\n",
       "    <tr>\n",
       "      <th>75%</th>\n",
       "      <td>18984.000000</td>\n",
       "      <td>0.000000</td>\n",
       "      <td>-1.000000</td>\n",
       "      <td>1.000000e+00</td>\n",
       "      <td>13.600000</td>\n",
       "      <td>581.000000</td>\n",
       "      <td>575.044994</td>\n",
       "    </tr>\n",
       "    <tr>\n",
       "      <th>max</th>\n",
       "      <td>72360.000000</td>\n",
       "      <td>10.000000</td>\n",
       "      <td>31.000000</td>\n",
       "      <td>1.460971e+06</td>\n",
       "      <td>31.000000</td>\n",
       "      <td>2833.000000</td>\n",
       "      <td>2922.908791</td>\n",
       "    </tr>\n",
       "  </tbody>\n",
       "</table>\n",
       "</div>"
      ],
      "text/plain": [
       "                3             4             23            36            43   \\\n",
       "count  66137.000000  66137.000000  66137.000000  6.613700e+04  66137.000000   \n",
       "mean   11226.207294      0.213511     -0.981085  7.810669e+01      9.611529   \n",
       "std     8153.148240      0.609365      0.416764  8.038195e+03      4.687150   \n",
       "min       13.000000      0.000000     -1.000000 -3.620000e+02      0.180000   \n",
       "25%     4000.000000      0.000000     -1.000000  1.000000e+00      5.600000   \n",
       "50%     9614.800000      0.000000     -1.000000  1.000000e+00     11.200000   \n",
       "75%    18984.000000      0.000000     -1.000000  1.000000e+00     13.600000   \n",
       "max    72360.000000     10.000000     31.000000  1.460971e+06     31.000000   \n",
       "\n",
       "                64            294  \n",
       "count  66137.000000  66137.000000  \n",
       "mean     451.009060    454.969820  \n",
       "std      226.386943    221.293898  \n",
       "min       30.000000     64.525593  \n",
       "25%      296.000000    300.863033  \n",
       "50%      429.000000    424.698119  \n",
       "75%      581.000000    575.044994  \n",
       "max     2833.000000   2922.908791  "
      ]
     },
     "execution_count": 19,
     "metadata": {},
     "output_type": "execute_result"
    }
   ],
   "source": [
    "# Taking another look at the distribution of the non-binary columns\n",
    "\n",
    "df.loc[:,(3,4,23,36,43,64,294)].describe()"
   ]
  },
  {
   "cell_type": "code",
   "execution_count": 11,
   "metadata": {
    "collapsed": true
   },
   "outputs": [],
   "source": [
    "# renaming the non-binary columns for easy reference\n",
    "\n",
    "df=df.rename(columns = {295:'response', 3:'float1', 43:'float2', 64:'float3', 294:'float4'})"
   ]
  },
  {
   "cell_type": "code",
   "execution_count": 12,
   "metadata": {
    "collapsed": true
   },
   "outputs": [],
   "source": [
    "df=df.rename(columns = {4:'col4', 23:'col23', 36:'col36'})"
   ]
  },
  {
   "cell_type": "code",
   "execution_count": 22,
   "metadata": {},
   "outputs": [
    {
     "data": {
      "text/html": [
       "<div>\n",
       "<style scoped>\n",
       "    .dataframe tbody tr th:only-of-type {\n",
       "        vertical-align: middle;\n",
       "    }\n",
       "\n",
       "    .dataframe tbody tr th {\n",
       "        vertical-align: top;\n",
       "    }\n",
       "\n",
       "    .dataframe thead th {\n",
       "        text-align: right;\n",
       "    }\n",
       "</style>\n",
       "<table border=\"1\" class=\"dataframe\">\n",
       "  <thead>\n",
       "    <tr style=\"text-align: right;\">\n",
       "      <th></th>\n",
       "      <th>0</th>\n",
       "      <th>1</th>\n",
       "      <th>2</th>\n",
       "      <th>float1</th>\n",
       "      <th>col4</th>\n",
       "      <th>5</th>\n",
       "      <th>6</th>\n",
       "      <th>7</th>\n",
       "      <th>8</th>\n",
       "      <th>9</th>\n",
       "      <th>...</th>\n",
       "      <th>286</th>\n",
       "      <th>287</th>\n",
       "      <th>288</th>\n",
       "      <th>289</th>\n",
       "      <th>290</th>\n",
       "      <th>291</th>\n",
       "      <th>292</th>\n",
       "      <th>293</th>\n",
       "      <th>float4</th>\n",
       "      <th>response</th>\n",
       "    </tr>\n",
       "  </thead>\n",
       "  <tbody>\n",
       "    <tr>\n",
       "      <th>0</th>\n",
       "      <td>0</td>\n",
       "      <td>0</td>\n",
       "      <td>0</td>\n",
       "      <td>20000.0</td>\n",
       "      <td>0</td>\n",
       "      <td>0</td>\n",
       "      <td>1</td>\n",
       "      <td>0</td>\n",
       "      <td>0</td>\n",
       "      <td>0</td>\n",
       "      <td>...</td>\n",
       "      <td>0</td>\n",
       "      <td>0</td>\n",
       "      <td>0</td>\n",
       "      <td>0</td>\n",
       "      <td>0</td>\n",
       "      <td>1</td>\n",
       "      <td>0</td>\n",
       "      <td>0</td>\n",
       "      <td>259.227165</td>\n",
       "      <td>B</td>\n",
       "    </tr>\n",
       "    <tr>\n",
       "      <th>1</th>\n",
       "      <td>0</td>\n",
       "      <td>0</td>\n",
       "      <td>0</td>\n",
       "      <td>7059.0</td>\n",
       "      <td>0</td>\n",
       "      <td>0</td>\n",
       "      <td>1</td>\n",
       "      <td>0</td>\n",
       "      <td>0</td>\n",
       "      <td>0</td>\n",
       "      <td>...</td>\n",
       "      <td>0</td>\n",
       "      <td>0</td>\n",
       "      <td>0</td>\n",
       "      <td>0</td>\n",
       "      <td>0</td>\n",
       "      <td>0</td>\n",
       "      <td>1</td>\n",
       "      <td>0</td>\n",
       "      <td>271.983584</td>\n",
       "      <td>E</td>\n",
       "    </tr>\n",
       "    <tr>\n",
       "      <th>2</th>\n",
       "      <td>0</td>\n",
       "      <td>0</td>\n",
       "      <td>0</td>\n",
       "      <td>3150.0</td>\n",
       "      <td>0</td>\n",
       "      <td>0</td>\n",
       "      <td>1</td>\n",
       "      <td>0</td>\n",
       "      <td>0</td>\n",
       "      <td>0</td>\n",
       "      <td>...</td>\n",
       "      <td>0</td>\n",
       "      <td>0</td>\n",
       "      <td>0</td>\n",
       "      <td>0</td>\n",
       "      <td>0</td>\n",
       "      <td>1</td>\n",
       "      <td>0</td>\n",
       "      <td>0</td>\n",
       "      <td>235.233437</td>\n",
       "      <td>D</td>\n",
       "    </tr>\n",
       "    <tr>\n",
       "      <th>3</th>\n",
       "      <td>0</td>\n",
       "      <td>0</td>\n",
       "      <td>0</td>\n",
       "      <td>24000.0</td>\n",
       "      <td>0</td>\n",
       "      <td>0</td>\n",
       "      <td>1</td>\n",
       "      <td>0</td>\n",
       "      <td>0</td>\n",
       "      <td>0</td>\n",
       "      <td>...</td>\n",
       "      <td>0</td>\n",
       "      <td>0</td>\n",
       "      <td>0</td>\n",
       "      <td>0</td>\n",
       "      <td>0</td>\n",
       "      <td>0</td>\n",
       "      <td>1</td>\n",
       "      <td>0</td>\n",
       "      <td>415.104389</td>\n",
       "      <td>C</td>\n",
       "    </tr>\n",
       "    <tr>\n",
       "      <th>4</th>\n",
       "      <td>0</td>\n",
       "      <td>0</td>\n",
       "      <td>0</td>\n",
       "      <td>5600.0</td>\n",
       "      <td>0</td>\n",
       "      <td>0</td>\n",
       "      <td>1</td>\n",
       "      <td>0</td>\n",
       "      <td>0</td>\n",
       "      <td>0</td>\n",
       "      <td>...</td>\n",
       "      <td>0</td>\n",
       "      <td>0</td>\n",
       "      <td>0</td>\n",
       "      <td>0</td>\n",
       "      <td>0</td>\n",
       "      <td>0</td>\n",
       "      <td>0</td>\n",
       "      <td>1</td>\n",
       "      <td>462.230610</td>\n",
       "      <td>D</td>\n",
       "    </tr>\n",
       "  </tbody>\n",
       "</table>\n",
       "<p>5 rows × 296 columns</p>\n",
       "</div>"
      ],
      "text/plain": [
       "   0  1  2   float1  col4  5  6  7  8  9    ...     286  287  288  289  290  \\\n",
       "0  0  0  0  20000.0     0  0  1  0  0  0    ...       0    0    0    0    0   \n",
       "1  0  0  0   7059.0     0  0  1  0  0  0    ...       0    0    0    0    0   \n",
       "2  0  0  0   3150.0     0  0  1  0  0  0    ...       0    0    0    0    0   \n",
       "3  0  0  0  24000.0     0  0  1  0  0  0    ...       0    0    0    0    0   \n",
       "4  0  0  0   5600.0     0  0  1  0  0  0    ...       0    0    0    0    0   \n",
       "\n",
       "   291  292  293      float4  response  \n",
       "0    1    0    0  259.227165         B  \n",
       "1    0    1    0  271.983584         E  \n",
       "2    1    0    0  235.233437         D  \n",
       "3    0    1    0  415.104389         C  \n",
       "4    0    0    1  462.230610         D  \n",
       "\n",
       "[5 rows x 296 columns]"
      ]
     },
     "execution_count": 22,
     "metadata": {},
     "output_type": "execute_result"
    }
   ],
   "source": [
    "df.head()"
   ]
  },
  {
   "cell_type": "code",
   "execution_count": 23,
   "metadata": {},
   "outputs": [
    {
     "data": {
      "text/plain": [
       "57287"
      ]
     },
     "execution_count": 23,
     "metadata": {},
     "output_type": "execute_result"
    },
    {
     "data": {
      "image/png": "[encoded data removed]",
      "text/plain": [
       "<matplotlib.figure.Figure at 0x2d00059b70>"
      ]
     },
     "metadata": {},
     "output_type": "display_data"
    }
   ],
   "source": [
    "# Checking col4's distribution: It is mostly equal to 0 (87% of the time) with outliers between 1 and 10\n",
    "\n",
    "df.boxplot(column='col4')\n",
    "len(df[df['col4']==0].col4)"
   ]
  },
  {
   "cell_type": "code",
   "execution_count": 24,
   "metadata": {},
   "outputs": [
    {
     "name": "stdout",
     "output_type": "stream",
     "text": [
      "(57287, 296)\n"
     ]
    },
    {
     "data": {
      "text/plain": [
       "<matplotlib.axes._subplots.AxesSubplot at 0x2d000b35f8>"
      ]
     },
     "execution_count": 24,
     "metadata": {},
     "output_type": "execute_result"
    },
    {
     "data": {
      "image/png": "[encoded data removed]",
      "text/plain": [
       "<matplotlib.figure.Figure at 0x2d00063a90>"
      ]
     },
     "metadata": {},
     "output_type": "display_data"
    }
   ],
   "source": [
    "# Plotting the distribution of col4 per target class. I think it should be dropped since outliers are in all classes.\n",
    "\n",
    "sns.set_style(\"whitegrid\")\n",
    "print(df[df['col4'] == 0].shape)\n",
    "sns.boxplot(x='col4', y='response', hue='response', data=df)"
   ]
  },
  {
   "cell_type": "code",
   "execution_count": 33,
   "metadata": {},
   "outputs": [
    {
     "data": {
      "text/plain": [
       "65880"
      ]
     },
     "execution_count": 33,
     "metadata": {},
     "output_type": "execute_result"
    },
    {
     "data": {
      "image/png": "[encoded data removed]",
      "text/plain": [
       "<matplotlib.figure.Figure at 0x6d2165eb38>"
      ]
     },
     "metadata": {},
     "output_type": "display_data"
    }
   ],
   "source": [
    "# Checking col23's distribution: It is almost constant at -1 (99.6% of the time)\n",
    "\n",
    "df.boxplot(column='col23')\n",
    "len(df[df['col23']== -1].col23)\n"
   ]
  },
  {
   "cell_type": "code",
   "execution_count": 35,
   "metadata": {},
   "outputs": [
    {
     "name": "stdout",
     "output_type": "stream",
     "text": [
      "(65880, 296)\n"
     ]
    },
    {
     "data": {
      "text/plain": [
       "<matplotlib.axes._subplots.AxesSubplot at 0x6d2179c390>"
      ]
     },
     "execution_count": 35,
     "metadata": {},
     "output_type": "execute_result"
    },
    {
     "data": {
      "image/png": "[encoded data removed]",
      "text/plain": [
       "<matplotlib.figure.Figure at 0x6d2174fb38>"
      ]
     },
     "metadata": {},
     "output_type": "display_data"
    }
   ],
   "source": [
    "# Plotting the distribution of col23 per target class. I think it should be dropped as well for the same reason as col4.\n",
    "\n",
    "print(df[df['col23'] == -1].shape)\n",
    "sns.boxplot(x='col23', y='response', hue='response', data=df)"
   ]
  },
  {
   "cell_type": "code",
   "execution_count": 47,
   "metadata": {},
   "outputs": [
    {
     "name": "stdout",
     "output_type": "stream",
     "text": [
      "41895\n",
      "11162\n"
     ]
    },
    {
     "data": {
      "image/png": "[encoded data removed]",
      "text/plain": [
       "<matplotlib.figure.Figure at 0x6d21a6b9b0>"
      ]
     },
     "metadata": {},
     "output_type": "display_data"
    }
   ],
   "source": [
    "# Checking col36's distribution: There is an extreme positive outlier(s) that is messing the scale. \n",
    "\n",
    "df.boxplot(column='col36')\n",
    "print(len(df[df['col36']== 1].col36))\n",
    "print(len(df[df['col36']== 0].col36))"
   ]
  },
  {
   "cell_type": "code",
   "execution_count": 25,
   "metadata": {},
   "outputs": [
    {
     "name": "stdout",
     "output_type": "stream",
     "text": [
      "(66135, 296)\n",
      "(65155, 296)\n",
      "(7, 296)\n"
     ]
    },
    {
     "data": {
      "text/plain": [
       "<matplotlib.axes._subplots.AxesSubplot at 0x2d0015cef0>"
      ]
     },
     "execution_count": 25,
     "metadata": {},
     "output_type": "execute_result"
    },
    {
     "data": {
      "image/png": "[encoded data removed]",
      "text/plain": [
       "<matplotlib.figure.Figure at 0x2d001c41d0>"
      ]
     },
     "metadata": {},
     "output_type": "display_data"
    }
   ],
   "source": [
    "# Plotting the distribution of col36 per target class. The column takes binary values 80% of the time. It took a few \n",
    "# iterations to see that the remaining 20% is distributed between 0 and 20 and 1.5 % is extreme values. \n",
    "# Not knowing what the attribute is and whether it is really binary or not, I will only trim/drop the extreme outliers \n",
    "# so as not to negatively impact normalizing/rescaling this column.\n",
    "\n",
    "print(df[df['col36'] < 20000].shape)\n",
    "print(df[df['col36'] < 20].shape)\n",
    "print(df[df['col36'] < 0].shape)\n",
    "sns.boxplot(x='col36', y='response', hue='response', data=df[(df['col36'] < 20) & (df['col36'] >= 0)]) "
   ]
  },
  {
   "cell_type": "code",
   "execution_count": 49,
   "metadata": {},
   "outputs": [
    {
     "name": "stdout",
     "output_type": "stream",
     "text": [
      "(66133, 296)\n"
     ]
    },
    {
     "data": {
      "image/png": "[encoded data removed]",
      "text/plain": [
       "<matplotlib.figure.Figure at 0x6d219ee2b0>"
      ]
     },
     "metadata": {},
     "output_type": "display_data"
    }
   ],
   "source": [
    "# Plotting the distributions of the float1 attribute\n",
    "\n",
    "sns.boxplot(x='float1', y='response', hue='response', data=df)\n",
    "print(df[df['float1'] < 50000].shape)"
   ]
  },
  {
   "cell_type": "code",
   "execution_count": 129,
   "metadata": {},
   "outputs": [
    {
     "data": {
      "text/plain": [
       "<matplotlib.axes._subplots.AxesSubplot at 0xce672dcb38>"
      ]
     },
     "execution_count": 129,
     "metadata": {},
     "output_type": "execute_result"
    },
    {
     "data": {
      "image/png": "[encoded data removed]",
      "text/plain": [
       "<matplotlib.figure.Figure at 0xce66e66d30>"
      ]
     },
     "metadata": {},
     "output_type": "display_data"
    }
   ],
   "source": [
    "sns.boxplot(x='float2', y='response', hue='response', data=df)"
   ]
  },
  {
   "cell_type": "code",
   "execution_count": 50,
   "metadata": {},
   "outputs": [
    {
     "name": "stdout",
     "output_type": "stream",
     "text": [
      "(65954, 296)\n"
     ]
    },
    {
     "data": {
      "image/png": "[encoded data removed]",
      "text/plain": [
       "<matplotlib.figure.Figure at 0x6d21a0d0b8>"
      ]
     },
     "metadata": {},
     "output_type": "display_data"
    }
   ],
   "source": [
    "sns.boxplot(x='float3', y='response', hue='response', data=df)\n",
    "print(df[df['float3'] < 1500].shape)"
   ]
  },
  {
   "cell_type": "code",
   "execution_count": 51,
   "metadata": {},
   "outputs": [
    {
     "name": "stdout",
     "output_type": "stream",
     "text": [
      "(65870, 296)\n"
     ]
    },
    {
     "data": {
      "image/png": "[encoded data removed]",
      "text/plain": [
       "<matplotlib.figure.Figure at 0x6d21ec6320>"
      ]
     },
     "metadata": {},
     "output_type": "display_data"
    }
   ],
   "source": [
    "sns.boxplot(x='float4', y='response', hue='response', data=df)\n",
    "print(df[df['float4'] < 1500].shape)"
   ]
  },
  {
   "cell_type": "code",
   "execution_count": null,
   "metadata": {
    "collapsed": true
   },
   "outputs": [],
   "source": [
    "#In all four float columns, there are outliers. However, I think not knowing the nature of the attributes I will keep all the\n",
    "# data for these columns, especially that there are no outliers orders of magnitude greater than the mean as in col36 for \n",
    "# example."
   ]
  },
  {
   "cell_type": "code",
   "execution_count": 53,
   "metadata": {
    "collapsed": true
   },
   "outputs": [],
   "source": [
    "# Are the float attributes correlated?\n",
    "\n",
    "float_df=df[['float1','float2','float3','float4','response']]"
   ]
  },
  {
   "cell_type": "code",
   "execution_count": 54,
   "metadata": {},
   "outputs": [
    {
     "data": {
      "text/html": [
       "<div>\n",
       "<style scoped>\n",
       "    .dataframe tbody tr th:only-of-type {\n",
       "        vertical-align: middle;\n",
       "    }\n",
       "\n",
       "    .dataframe tbody tr th {\n",
       "        vertical-align: top;\n",
       "    }\n",
       "\n",
       "    .dataframe thead th {\n",
       "        text-align: right;\n",
       "    }\n",
       "</style>\n",
       "<table border=\"1\" class=\"dataframe\">\n",
       "  <thead>\n",
       "    <tr style=\"text-align: right;\">\n",
       "      <th></th>\n",
       "      <th>float1</th>\n",
       "      <th>float2</th>\n",
       "      <th>float3</th>\n",
       "      <th>float4</th>\n",
       "      <th>response</th>\n",
       "    </tr>\n",
       "  </thead>\n",
       "  <tbody>\n",
       "    <tr>\n",
       "      <th>15463</th>\n",
       "      <td>7434.0</td>\n",
       "      <td>8.4</td>\n",
       "      <td>347.000</td>\n",
       "      <td>413.641383</td>\n",
       "      <td>D</td>\n",
       "    </tr>\n",
       "    <tr>\n",
       "      <th>22064</th>\n",
       "      <td>24000.0</td>\n",
       "      <td>13.6</td>\n",
       "      <td>347.000</td>\n",
       "      <td>396.543532</td>\n",
       "      <td>D</td>\n",
       "    </tr>\n",
       "    <tr>\n",
       "      <th>61817</th>\n",
       "      <td>900.0</td>\n",
       "      <td>0.4</td>\n",
       "      <td>255.650</td>\n",
       "      <td>186.618126</td>\n",
       "      <td>C</td>\n",
       "    </tr>\n",
       "    <tr>\n",
       "      <th>20891</th>\n",
       "      <td>22852.1</td>\n",
       "      <td>10.8</td>\n",
       "      <td>384.000</td>\n",
       "      <td>450.516772</td>\n",
       "      <td>B</td>\n",
       "    </tr>\n",
       "    <tr>\n",
       "      <th>289</th>\n",
       "      <td>20500.0</td>\n",
       "      <td>7.1</td>\n",
       "      <td>818.000</td>\n",
       "      <td>812.137386</td>\n",
       "      <td>C</td>\n",
       "    </tr>\n",
       "    <tr>\n",
       "      <th>30548</th>\n",
       "      <td>9600.0</td>\n",
       "      <td>13.6</td>\n",
       "      <td>898.000</td>\n",
       "      <td>1210.494795</td>\n",
       "      <td>C</td>\n",
       "    </tr>\n",
       "    <tr>\n",
       "      <th>24149</th>\n",
       "      <td>23792.0</td>\n",
       "      <td>12.0</td>\n",
       "      <td>523.000</td>\n",
       "      <td>583.476989</td>\n",
       "      <td>C</td>\n",
       "    </tr>\n",
       "    <tr>\n",
       "      <th>35386</th>\n",
       "      <td>287.0</td>\n",
       "      <td>1.6</td>\n",
       "      <td>52.422</td>\n",
       "      <td>89.743534</td>\n",
       "      <td>D</td>\n",
       "    </tr>\n",
       "    <tr>\n",
       "      <th>52238</th>\n",
       "      <td>24720.0</td>\n",
       "      <td>9.6</td>\n",
       "      <td>521.379</td>\n",
       "      <td>588.651642</td>\n",
       "      <td>D</td>\n",
       "    </tr>\n",
       "    <tr>\n",
       "      <th>52914</th>\n",
       "      <td>1225.0</td>\n",
       "      <td>3.5</td>\n",
       "      <td>523.000</td>\n",
       "      <td>250.519304</td>\n",
       "      <td>C</td>\n",
       "    </tr>\n",
       "  </tbody>\n",
       "</table>\n",
       "</div>"
      ],
      "text/plain": [
       "        float1  float2   float3       float4 response\n",
       "15463   7434.0     8.4  347.000   413.641383        D\n",
       "22064  24000.0    13.6  347.000   396.543532        D\n",
       "61817    900.0     0.4  255.650   186.618126        C\n",
       "20891  22852.1    10.8  384.000   450.516772        B\n",
       "289    20500.0     7.1  818.000   812.137386        C\n",
       "30548   9600.0    13.6  898.000  1210.494795        C\n",
       "24149  23792.0    12.0  523.000   583.476989        C\n",
       "35386    287.0     1.6   52.422    89.743534        D\n",
       "52238  24720.0     9.6  521.379   588.651642        D\n",
       "52914   1225.0     3.5  523.000   250.519304        C"
      ]
     },
     "execution_count": 54,
     "metadata": {},
     "output_type": "execute_result"
    }
   ],
   "source": [
    "float_df.sample(10)"
   ]
  },
  {
   "cell_type": "code",
   "execution_count": 55,
   "metadata": {},
   "outputs": [
    {
     "data": {
      "text/plain": [
       "<seaborn.axisgrid.PairGrid at 0x6d21e61b00>"
      ]
     },
     "execution_count": 55,
     "metadata": {},
     "output_type": "execute_result"
    },
    {
     "data": {
      "text/plain": [
       "<matplotlib.figure.Figure at 0x6d21e61ba8>"
      ]
     },
     "metadata": {},
     "output_type": "display_data"
    },
    {
     "data": {
      "image/png": "[encoded data removed]",
      "text/plain": [
       "<matplotlib.figure.Figure at 0x6d21fbe400>"
      ]
     },
     "metadata": {},
     "output_type": "display_data"
    }
   ],
   "source": [
    "plt.figure(figsize=(8,6))\n",
    "sns.pairplot(float_df,hue='response',palette='Set1')"
   ]
  },
  {
   "cell_type": "code",
   "execution_count": 56,
   "metadata": {},
   "outputs": [
    {
     "data": {
      "text/plain": [
       "<matplotlib.axes._subplots.AxesSubplot at 0x6d22966208>"
      ]
     },
     "execution_count": 56,
     "metadata": {},
     "output_type": "execute_result"
    },
    {
     "data": {
      "image/png": "[encoded data removed]",
      "text/plain": [
       "<matplotlib.figure.Figure at 0x6d21eb3908>"
      ]
     },
     "metadata": {},
     "output_type": "display_data"
    }
   ],
   "source": [
    "# Atrributes float1 and float2 are moderately correlated, while float3 and float4 are strongly correlated.\n",
    "\n",
    "sns.heatmap(float_df.corr())"
   ]
  },
  {
   "cell_type": "code",
   "execution_count": 13,
   "metadata": {},
   "outputs": [
    {
     "data": {
      "text/plain": [
       "(65148, 283)"
      ]
     },
     "execution_count": 13,
     "metadata": {},
     "output_type": "execute_result"
    }
   ],
   "source": [
    "# Cleaning the data. Now df contains the cleaned data.\n",
    "\n",
    "df.drop(const_cols, axis=1, inplace=True)\n",
    "df.drop(['col4', 'col23'], axis=1, inplace=True)\n",
    "df=df[(df['col36'] < 20) & (df['col36'] >= 0)]\n",
    "df.shape"
   ]
  },
  {
   "cell_type": "markdown",
   "metadata": {},
   "source": [
    "### 4. Building ML Models\n",
    "\n",
    "** Performance Evaluation/Validation Metrics: Due to the target classes representation imbalance in the data, the following models are evaluated based on their Confusion Matrix and F1-score. **\n",
    "\n",
    "- The **Confusion Matrix** will show how each model is performing in terms of identifying/predicting each class as opposed to accuracy, which can just reflect the underlying imbalanced distribution of the classes. \n",
    "\n",
    "- The **average F1-score** is the weighted average of the Precision and Recall (sensitivity), and hence is more descriptive of the model performance, assuming that the cost of a false positive and a false negative are equal.\n"
   ]
  },
  {
   "cell_type": "markdown",
   "metadata": {},
   "source": [
    "### 4.1 Random Forest\n",
    "\n",
    "** To get a base model for the data, Random Forest is used because:**\n",
    "\n",
    "- RF can work with a mix of binary and float attributes without the need to standardize/scale the attributes.\n",
    "- RF can work with the relatively large number of attributes without applying dimensionality reduction first.\n",
    "- RF is robust against correlated attributes, which are present in this data, at for the float attributes."
   ]
  },
  {
   "cell_type": "code",
   "execution_count": 14,
   "metadata": {
    "collapsed": true
   },
   "outputs": [],
   "source": [
    "# Splitting the data to test and training\n",
    "\n",
    "from sklearn.model_selection import train_test_split\n",
    "\n",
    "X = df.drop('response', axis=1)\n",
    "y = df['response']"
   ]
  },
  {
   "cell_type": "code",
   "execution_count": 29,
   "metadata": {
    "collapsed": true
   },
   "outputs": [],
   "source": [
    "X_train, X_test, y_train, y_test = train_test_split(X, y, test_size=0.30, random_state=101)"
   ]
  },
  {
   "cell_type": "code",
   "execution_count": 30,
   "metadata": {
    "collapsed": true
   },
   "outputs": [],
   "source": [
    "# Importing RF classifier and creating an instant with number of estimators set to 100. I will not assign weights to classes\n",
    "# in this step to get a base model\n",
    "\n",
    "from sklearn.ensemble import RandomForestClassifier\n",
    "rfc = RandomForestClassifier(n_estimators=100)\n",
    "#rfc.fit(X_train, y_train)"
   ]
  },
  {
   "cell_type": "code",
   "execution_count": 31,
   "metadata": {},
   "outputs": [
    {
     "data": {
      "text/plain": [
       "RandomForestClassifier(bootstrap=True, class_weight=None, criterion='gini',\n",
       "            max_depth=None, max_features='auto', max_leaf_nodes=None,\n",
       "            min_impurity_decrease=0.0, min_impurity_split=None,\n",
       "            min_samples_leaf=1, min_samples_split=2,\n",
       "            min_weight_fraction_leaf=0.0, n_estimators=100, n_jobs=1,\n",
       "            oob_score=False, random_state=None, verbose=0,\n",
       "            warm_start=False)"
      ]
     },
     "execution_count": 31,
     "metadata": {},
     "output_type": "execute_result"
    }
   ],
   "source": [
    "# Fitting the model\n",
    "\n",
    "rfc.fit(X_train, y_train)"
   ]
  },
  {
   "cell_type": "code",
   "execution_count": 24,
   "metadata": {
    "collapsed": true
   },
   "outputs": [],
   "source": [
    "from sklearn.metrics import classification_report,confusion_matrix"
   ]
  },
  {
   "cell_type": "code",
   "execution_count": 33,
   "metadata": {},
   "outputs": [
    {
     "name": "stdout",
     "output_type": "stream",
     "text": [
      "[[    3    18   200    19     1]\n",
      " [    6   103  1729    82     6]\n",
      " [    3   129 13456   343    18]\n",
      " [    3    63  2318   279    21]\n",
      " [    1    10   630    74    30]]\n",
      "             precision    recall  f1-score   support\n",
      "\n",
      "          A       0.19      0.01      0.02       241\n",
      "          B       0.32      0.05      0.09      1926\n",
      "          C       0.73      0.96      0.83     13949\n",
      "          D       0.35      0.10      0.16      2684\n",
      "          E       0.39      0.04      0.07       745\n",
      "\n",
      "avg / total       0.62      0.71      0.63     19545\n",
      "\n"
     ]
    }
   ],
   "source": [
    "# Predicting off the test set and printing metrics. \n",
    "\n",
    "rfc_pred = rfc.predict(X_test)\n",
    "print(confusion_matrix(y_test,rfc_pred))\n",
    "print(classification_report(y_test,rfc_pred))"
   ]
  },
  {
   "cell_type": "code",
   "execution_count": 34,
   "metadata": {},
   "outputs": [
    {
     "name": "stdout",
     "output_type": "stream",
     "text": [
      "[[    2    16   210    12     1]\n",
      " [    4    97  1762    57     6]\n",
      " [   10   151 13451   316    21]\n",
      " [    2    51  2377   234    20]\n",
      " [    2     9   642    63    29]]\n",
      "             precision    recall  f1-score   support\n",
      "\n",
      "          A       0.10      0.01      0.02       241\n",
      "          B       0.30      0.05      0.09      1926\n",
      "          C       0.73      0.96      0.83     13949\n",
      "          D       0.34      0.09      0.14      2684\n",
      "          E       0.38      0.04      0.07       745\n",
      "\n",
      "avg / total       0.61      0.71      0.62     19545\n",
      "\n"
     ]
    }
   ],
   "source": [
    "# The obtained model has a good Presicion and Recall for Class C, the majority class. However, the performance for the other \n",
    "# classes is very bad, which is expected as a result of the class imbalance especially for class E and A.\n",
    "\n",
    "# I will try again, but with the attribute class_weight set to \"balanced\" mode, which uses the values of y_train to automatically\n",
    "# adjust weights inversely proportional to class frequencies in the input data.\n",
    "\n",
    "# The second model did not provide any enhancement, but was 1% worse in terms if the average F1-score.\n",
    "\n",
    "rfc = RandomForestClassifier(n_estimators=100, class_weight=\"balanced\")\n",
    "rfc.fit(X_train, y_train)\n",
    "rfc_pred = rfc.predict(X_test)\n",
    "print(confusion_matrix(y_test,rfc_pred))\n",
    "print(classification_report(y_test,rfc_pred))"
   ]
  },
  {
   "cell_type": "markdown",
   "metadata": {},
   "source": [
    "### 4.2 K-Nearest Neighbor\n",
    "\n",
    "** KNN will be applied to the data after standardizing (z-score) all the attributes. The tunable parameter K is set initially to 10. KNN has the advantage of being a simple ML technique with low computational complexity. Hence it can be used to train relatively large and high dimensional datasets that grows progressively over time. However, its downside is that it is expensive in terms of memory since the trained model is represented by the entire dataset.**"
   ]
  },
  {
   "cell_type": "code",
   "execution_count": 15,
   "metadata": {
    "collapsed": true
   },
   "outputs": [],
   "source": [
    "from sklearn.neighbors import KNeighborsClassifier\n",
    "from sklearn.preprocessing import scale\n",
    "\n",
    "# scaling data so that all attributes have zero mean and unit std. This step is vital for KNN since 5 of the attributes have much\n",
    "# larger ranges and variances than the binary attributes.\n",
    "scaled_df = scale(df.drop('response', axis=1))"
   ]
  },
  {
   "cell_type": "code",
   "execution_count": 38,
   "metadata": {
    "collapsed": true
   },
   "outputs": [],
   "source": [
    "X = scaled_df\n",
    "y = df['response']\n",
    "\n",
    "# Splitting the data\n",
    "X_train, X_test, y_train, y_test = train_test_split(X, y, test_size=0.30, random_state=101)"
   ]
  },
  {
   "cell_type": "code",
   "execution_count": 39,
   "metadata": {},
   "outputs": [
    {
     "data": {
      "text/plain": [
       "KNeighborsClassifier(algorithm='auto', leaf_size=30, metric='minkowski',\n",
       "           metric_params=None, n_jobs=1, n_neighbors=10, p=2,\n",
       "           weights='uniform')"
      ]
     },
     "execution_count": 39,
     "metadata": {},
     "output_type": "execute_result"
    }
   ],
   "source": [
    "# Fitting the model\n",
    "\n",
    "knn = KNeighborsClassifier(n_neighbors=10)\n",
    "\n",
    "knn.fit(X_train,y_train)"
   ]
  },
  {
   "cell_type": "code",
   "execution_count": 40,
   "metadata": {},
   "outputs": [
    {
     "name": "stdout",
     "output_type": "stream",
     "text": [
      "[[    2    11   215    13     0]\n",
      " [    2    96  1771    57     0]\n",
      " [    2   225 13456   254    12]\n",
      " [    3    88  2444   142     7]\n",
      " [    3    34   655    43    10]]\n",
      "             precision    recall  f1-score   support\n",
      "\n",
      "          A       0.17      0.01      0.02       241\n",
      "          B       0.21      0.05      0.08      1926\n",
      "          C       0.73      0.96      0.83     13949\n",
      "          D       0.28      0.05      0.09      2684\n",
      "          E       0.34      0.01      0.03       745\n",
      "\n",
      "avg / total       0.59      0.70      0.61     19545\n",
      "\n"
     ]
    }
   ],
   "source": [
    "# Predicting off the test test and printing metrics\n",
    "\n",
    "pred = knn.predict(X_test)\n",
    "\n",
    "print(confusion_matrix(y_test,pred))\n",
    "\n",
    "print(classification_report(y_test,pred))"
   ]
  },
  {
   "cell_type": "markdown",
   "metadata": {},
   "source": [
    "### 4.3. Principal Component Analysis + Support Vector Machine Model\n",
    "\n",
    "** The next classifier I will try is Support Vector Machine. Due to the relatively high number of attributes (and also records)\n",
    "PCA will be used to reduce the dimensions of the data before applying SVM.**"
   ]
  },
  {
   "cell_type": "code",
   "execution_count": 16,
   "metadata": {
    "collapsed": true
   },
   "outputs": [],
   "source": [
    "# Splitting the data\n",
    "\n",
    "X = scaled_df\n",
    "y = df['response']\n",
    "X_train, X_test, y_train, y_test = train_test_split(X, y, test_size=0.30, random_state=101)"
   ]
  },
  {
   "cell_type": "code",
   "execution_count": 17,
   "metadata": {},
   "outputs": [
    {
     "data": {
      "text/plain": [
       "PCA(copy=True, iterated_power='auto', n_components=281, random_state=None,\n",
       "  svd_solver='auto', tol=0.0, whiten=False)"
      ]
     },
     "execution_count": 17,
     "metadata": {},
     "output_type": "execute_result"
    }
   ],
   "source": [
    "from sklearn.decomposition import PCA\n",
    "\n",
    "pca = PCA(n_components=281) # we are getting all the principal components first to then see how many to use later before SVM,\n",
    "pca.fit(X_train)"
   ]
  },
  {
   "cell_type": "code",
   "execution_count": 18,
   "metadata": {},
   "outputs": [
    {
     "name": "stdout",
     "output_type": "stream",
     "text": [
      "[  1.81   3.3    4.57   5.73   6.78   7.79   8.69   9.56  10.4   11.24\n",
      "  12.04  12.83  13.6   14.36  15.1   15.84  16.56  17.28  17.98  18.66\n",
      "  19.31  19.95  20.58  21.19  21.79  22.37  22.94  23.5   24.05  24.58\n",
      "  25.1   25.62  26.13  26.64  27.15  27.65  28.14  28.63  29.12  29.6\n",
      "  30.08  30.55  31.02  31.48  31.94  32.4   32.85  33.3   33.74  34.18\n",
      "  34.62  35.06  35.5   35.93  36.36  36.78  37.2   37.62  38.04  38.46\n",
      "  38.87  39.28  39.69  40.1   40.51  40.92  41.32  41.72  42.12  42.52\n",
      "  42.92  43.32  43.72  44.12  44.52  44.91  45.3   45.69  46.08  46.47\n",
      "  46.86  47.25  47.64  48.03  48.42  48.8   49.18  49.56  49.94  50.32\n",
      "  50.7   51.08  51.46  51.84  52.22  52.6   52.98  53.36  53.74  54.11\n",
      "  54.48  54.85  55.22  55.59  55.96  56.33  56.7   57.07  57.44  57.81\n",
      "  58.18  58.55  58.92  59.29  59.66  60.02  60.38  60.74  61.1   61.46\n",
      "  61.82  62.18  62.54  62.9   63.26  63.62  63.98  64.34  64.7   65.06\n",
      "  65.42  65.78  66.13  66.48  66.83  67.18  67.53  67.88  68.23  68.58\n",
      "  68.93  69.28  69.63  69.98  70.33  70.68  71.03  71.38  71.72  72.06\n",
      "  72.4   72.74  73.08  73.42  73.76  74.1   74.44  74.78  75.12  75.46\n",
      "  75.8   76.14  76.47  76.8   77.13  77.46  77.79  78.12  78.45  78.78\n",
      "  79.11  79.44  79.77  80.1   80.43  80.76  81.08  81.4   81.72  82.04\n",
      "  82.36  82.68  83.    83.32  83.64  83.96  84.28  84.59  84.9   85.21\n",
      "  85.52  85.83  86.14  86.45  86.76  87.07  87.37  87.67  87.97  88.27\n",
      "  88.57  88.86  89.15  89.44  89.73  90.02  90.3   90.58  90.86  91.14\n",
      "  91.42  91.69  91.96  92.23  92.5   92.76  93.02  93.28  93.53  93.78\n",
      "  94.03  94.28  94.53  94.77  95.01  95.25  95.49  95.72  95.94  96.16\n",
      "  96.37  96.58  96.79  96.99  97.19  97.39  97.58  97.77  97.95  98.12\n",
      "  98.29  98.45  98.6   98.75  98.89  99.02  99.15  99.27  99.39  99.5\n",
      "  99.6   99.69  99.77  99.85  99.91  99.94  99.97  99.98  99.99 100.\n",
      " 100.01 100.02 100.02 100.02 100.02 100.02 100.02 100.02 100.02 100.02\n",
      " 100.02 100.02 100.02 100.02 100.02 100.02 100.02 100.02 100.02 100.02\n",
      " 100.02]\n"
     ]
    }
   ],
   "source": [
    "# Now checking to see the amount of variance the addition of each PC explains\n",
    "\n",
    "var= pca.explained_variance_ratio_\n",
    "var_cs=np.cumsum(np.round(pca.explained_variance_ratio_, decimals=4)*100)\n",
    "print(var_cs)"
   ]
  },
  {
   "cell_type": "code",
   "execution_count": 19,
   "metadata": {},
   "outputs": [
    {
     "data": {
      "text/plain": [
       "(45603, 174)"
      ]
     },
     "execution_count": 19,
     "metadata": {},
     "output_type": "execute_result"
    }
   ],
   "source": [
    "# The rate of increase in the amount of total variation explained with PCs is slow. \n",
    "# I will take a number of PCs that explains 80% of the variation\n",
    "\n",
    "pca = PCA(n_components=.80, svd_solver='full') \n",
    "pca.fit(X_train)\n",
    "X_train_pca = pca.transform(X_train)\n",
    "X_train_pca.shape"
   ]
  },
  {
   "cell_type": "code",
   "execution_count": 20,
   "metadata": {},
   "outputs": [
    {
     "name": "stdout",
     "output_type": "stream",
     "text": [
      "(19545, 174)\n"
     ]
    }
   ],
   "source": [
    "# so we reduced the dimensions here by almost 40%. I suspect that 45K records of 174 attributes will be too computationally \n",
    "# expensive to run in a reasonable time using SVM but I will try.\n",
    "# applying PCA to test data\n",
    "\n",
    "X_test_pca = pca.transform(X_test)\n",
    "print(X_test_pca.shape)"
   ]
  },
  {
   "cell_type": "code",
   "execution_count": 21,
   "metadata": {
    "collapsed": true
   },
   "outputs": [],
   "source": [
    "# importing SVM and creating an SVM instance, first without class_weight set to \"balanced\"\n",
    "\n",
    "from sklearn.svm import SVC\n",
    "\n",
    "svc_model = SVC()"
   ]
  },
  {
   "cell_type": "code",
   "execution_count": 22,
   "metadata": {},
   "outputs": [
    {
     "data": {
      "text/plain": [
       "SVC(C=1.0, cache_size=200, class_weight=None, coef0=0.0,\n",
       "  decision_function_shape='ovr', degree=3, gamma='auto', kernel='rbf',\n",
       "  max_iter=-1, probability=False, random_state=None, shrinking=True,\n",
       "  tol=0.001, verbose=False)"
      ]
     },
     "execution_count": 22,
     "metadata": {},
     "output_type": "execute_result"
    }
   ],
   "source": [
    "# fitting the model\n",
    "\n",
    "svc_model.fit(X_train_pca,y_train)"
   ]
  },
  {
   "cell_type": "code",
   "execution_count": 25,
   "metadata": {},
   "outputs": [
    {
     "name": "stdout",
     "output_type": "stream",
     "text": [
      "[[    1     4   233     3     0]\n",
      " [    1    37  1881     7     0]\n",
      " [    0    30 13850    68     1]\n",
      " [    0     7  2631    45     1]\n",
      " [    0     0   725    19     1]]\n",
      "             precision    recall  f1-score   support\n",
      "\n",
      "          A       0.50      0.00      0.01       241\n",
      "          B       0.47      0.02      0.04      1926\n",
      "          C       0.72      0.99      0.83     13949\n",
      "          D       0.32      0.02      0.03      2684\n",
      "          E       0.33      0.00      0.00       745\n",
      "\n",
      "avg / total       0.62      0.71      0.60     19545\n",
      "\n"
     ]
    }
   ],
   "source": [
    "# Predicting off the the test set\n",
    "\n",
    "predictions = svc_model.predict(X_test_pca)\n",
    "\n",
    "print(confusion_matrix(y_test,predictions))\n",
    "\n",
    "print(classification_report(y_test,predictions))"
   ]
  },
  {
   "cell_type": "code",
   "execution_count": 108,
   "metadata": {
    "collapsed": true
   },
   "outputs": [],
   "source": [
    "# importing SVM and creating an SVM instance with class_weight set to \"balanced\".\n",
    "\n",
    "svc_model = SVC(class_weight=\"balanced\")"
   ]
  },
  {
   "cell_type": "code",
   "execution_count": 109,
   "metadata": {},
   "outputs": [
    {
     "data": {
      "text/plain": [
       "SVC(C=1.0, cache_size=200, class_weight='balanced', coef0=0.0,\n",
       "  decision_function_shape='ovr', degree=3, gamma='auto', kernel='rbf',\n",
       "  max_iter=-1, probability=False, random_state=None, shrinking=True,\n",
       "  tol=0.001, verbose=False)"
      ]
     },
     "execution_count": 109,
     "metadata": {},
     "output_type": "execute_result"
    }
   ],
   "source": [
    "# fitting the SVM model\n",
    "\n",
    "svc_model.fit(X_train_pca,y_train)"
   ]
  },
  {
   "cell_type": "code",
   "execution_count": 110,
   "metadata": {},
   "outputs": [
    {
     "name": "stdout",
     "output_type": "stream",
     "text": [
      "[[  19   86   32   61   43]\n",
      " [ 115  610  450  514  237]\n",
      " [ 492 2223 7726 2551  957]\n",
      " [ 169  568  546  989  412]\n",
      " [  49  147   93  260  196]]\n",
      "             precision    recall  f1-score   support\n",
      "\n",
      "          A       0.02      0.08      0.04       241\n",
      "          B       0.17      0.32      0.22      1926\n",
      "          C       0.87      0.55      0.68     13949\n",
      "          D       0.23      0.37      0.28      2684\n",
      "          E       0.11      0.26      0.15       745\n",
      "\n",
      "avg / total       0.68      0.49      0.55     19545\n",
      "\n"
     ]
    }
   ],
   "source": [
    "# Predicting off the the test set\n",
    "\n",
    "predictions = svc_model.predict(X_test_pca)\n",
    "\n",
    "print(confusion_matrix(y_test,predictions))\n",
    "\n",
    "print(classification_report(y_test,predictions))"
   ]
  },
  {
   "cell_type": "markdown",
   "metadata": {},
   "source": [
    "** Compared to the RF Model, the average F1-score is 8% worse. However, the F1-score of the underepresented classes improved \n",
    "   significantly, except for class A which has only 1% representation. The next steps can be:**\n",
    "   \n",
    "   - Perform a Grid Search for tuning the parameters C and gamma for the higest f1 score. However, this is computationally \n",
    "     very expensive with this number of attributes and records. This would be the code for this:\n",
    "     \n",
    "     - #param_grid = {'C': [0.1,1, 10, 100, 1000], 'gamma': [1,0.1,0.01,0.001,0.0001], 'kernel': ['rbf']} \n",
    "     - #from sklearn.model_selection import GridSearchCV\n",
    "     - #grid = GridSearchCV(SVC(),param_grid,refit=True,verbose=3, scoring= ['f1_weighted','f1_sampled'])\n",
    "     - #grid.fit(X_train_pca,y_train)\n",
    "     - #grid.best_params_\n",
    "     - #grid.best_estimator_\n",
    "     - #grid_predictions = grid.predict(X_test_pca)\n",
    "     - #print(confusion_matrix(y_test,grid_predictions))\n",
    "     - #print(classification_report(y_test,grid_predictions))\n",
    "   \n",
    "   \n",
    "   - Before splitting the data and applying PCA, a RandomUnderSampler from the imblearn can be applied to the data.\n",
    "     Since class A is the least represented in the data with around 800 instances, the data after balancing out with random\n",
    "     undersampling will shrink siginifantly to achieve a 1:1:1:1:1 default ratio. PCA is then applied and the GridSearch for \n",
    "     tuning SVM parameters C and gamma can be used. The following is the code lines to be added before fitting PCA:\n",
    "    \n",
    "    - #from imblearn.under_sampling import RandomUnderSampler\n",
    "    - #rus = RandomUnderSampler(random_state=101)\n",
    "    - #X_res, y_res = rus.fit_sample(X, y)\n",
    "   \n",
    "   "
   ]
  },
  {
   "cell_type": "markdown",
   "metadata": {},
   "source": [
    "### 4.3 Artificial Neural Network"
   ]
  },
  {
   "cell_type": "code",
   "execution_count": 25,
   "metadata": {
    "collapsed": true
   },
   "outputs": [],
   "source": [
    "df_copy = df.copy()"
   ]
  },
  {
   "cell_type": "code",
   "execution_count": 26,
   "metadata": {},
   "outputs": [
    {
     "name": "stderr",
     "output_type": "stream",
     "text": [
      "C:\\Users\\Dina\\Anaconda3\\lib\\site-packages\\h5py\\__init__.py:34: FutureWarning: Conversion of the second argument of issubdtype from `float` to `np.floating` is deprecated. In future, it will be treated as `np.float64 == np.dtype(float).type`.\n",
      "  from ._conv import register_converters as _register_converters\n",
      "Using TensorFlow backend.\n"
     ]
    }
   ],
   "source": [
    "# importing libraries\n",
    "\n",
    "from keras.models import Sequential\n",
    "from keras.layers import Dense\n",
    "from keras.wrappers.scikit_learn import KerasClassifier\n",
    "from keras.utils import np_utils\n",
    "from sklearn.model_selection import cross_val_score\n",
    "from sklearn.model_selection import KFold\n",
    "from sklearn.preprocessing import LabelEncoder\n",
    "from sklearn.pipeline import Pipeline"
   ]
  },
  {
   "cell_type": "code",
   "execution_count": 27,
   "metadata": {},
   "outputs": [],
   "source": [
    "# encoding target classes as integers and then hot-one encoding\n",
    "\n",
    "# Encode as integers from 0 to 4\n",
    "encoder = LabelEncoder()\n",
    "encoder.fit(df['response'])\n",
    "encoded_Y = encoder.transform(df['response'])\n",
    "\n",
    "# convert integers to dummy variables (i.e. one hot encoded)\n",
    "y_nn = np_utils.to_categorical(encoded_Y)"
   ]
  },
  {
   "cell_type": "code",
   "execution_count": 29,
   "metadata": {
    "collapsed": true
   },
   "outputs": [],
   "source": [
    "#Scaling non-binary columns to the range (0,1). This will not affect the values in the binary columns.\n",
    "\n",
    "from sklearn.preprocessing import MinMaxScaler\n",
    "scaler = MinMaxScaler()\n",
    "X=df.drop(['response'], axis=1)\n",
    "X_nn = scaler.fit_transform(X)"
   ]
  },
  {
   "cell_type": "code",
   "execution_count": 78,
   "metadata": {},
   "outputs": [
    {
     "data": {
      "text/html": [
       "<div>\n",
       "<style scoped>\n",
       "    .dataframe tbody tr th:only-of-type {\n",
       "        vertical-align: middle;\n",
       "    }\n",
       "\n",
       "    .dataframe tbody tr th {\n",
       "        vertical-align: top;\n",
       "    }\n",
       "\n",
       "    .dataframe thead th {\n",
       "        text-align: right;\n",
       "    }\n",
       "</style>\n",
       "<table border=\"1\" class=\"dataframe\">\n",
       "  <thead>\n",
       "    <tr style=\"text-align: right;\">\n",
       "      <th></th>\n",
       "      <th>0</th>\n",
       "      <th>1</th>\n",
       "      <th>2</th>\n",
       "      <th>3</th>\n",
       "      <th>4</th>\n",
       "      <th>5</th>\n",
       "      <th>6</th>\n",
       "      <th>7</th>\n",
       "      <th>8</th>\n",
       "      <th>9</th>\n",
       "      <th>...</th>\n",
       "      <th>272</th>\n",
       "      <th>273</th>\n",
       "      <th>274</th>\n",
       "      <th>275</th>\n",
       "      <th>276</th>\n",
       "      <th>277</th>\n",
       "      <th>278</th>\n",
       "      <th>279</th>\n",
       "      <th>280</th>\n",
       "      <th>281</th>\n",
       "    </tr>\n",
       "  </thead>\n",
       "  <tbody>\n",
       "    <tr>\n",
       "      <th>0</th>\n",
       "      <td>0.0</td>\n",
       "      <td>0.0</td>\n",
       "      <td>0.0</td>\n",
       "      <td>0.276266</td>\n",
       "      <td>0.0</td>\n",
       "      <td>1.0</td>\n",
       "      <td>0.0</td>\n",
       "      <td>0.0</td>\n",
       "      <td>0.0</td>\n",
       "      <td>0.0</td>\n",
       "      <td>...</td>\n",
       "      <td>0.0</td>\n",
       "      <td>0.0</td>\n",
       "      <td>0.0</td>\n",
       "      <td>0.0</td>\n",
       "      <td>0.0</td>\n",
       "      <td>0.0</td>\n",
       "      <td>1.0</td>\n",
       "      <td>0.0</td>\n",
       "      <td>0.0</td>\n",
       "      <td>0.067195</td>\n",
       "    </tr>\n",
       "    <tr>\n",
       "      <th>1</th>\n",
       "      <td>0.0</td>\n",
       "      <td>0.0</td>\n",
       "      <td>0.0</td>\n",
       "      <td>0.097392</td>\n",
       "      <td>0.0</td>\n",
       "      <td>1.0</td>\n",
       "      <td>0.0</td>\n",
       "      <td>0.0</td>\n",
       "      <td>0.0</td>\n",
       "      <td>0.0</td>\n",
       "      <td>...</td>\n",
       "      <td>0.0</td>\n",
       "      <td>0.0</td>\n",
       "      <td>0.0</td>\n",
       "      <td>0.0</td>\n",
       "      <td>0.0</td>\n",
       "      <td>0.0</td>\n",
       "      <td>0.0</td>\n",
       "      <td>1.0</td>\n",
       "      <td>0.0</td>\n",
       "      <td>0.071663</td>\n",
       "    </tr>\n",
       "    <tr>\n",
       "      <th>2</th>\n",
       "      <td>0.0</td>\n",
       "      <td>0.0</td>\n",
       "      <td>0.0</td>\n",
       "      <td>0.043360</td>\n",
       "      <td>0.0</td>\n",
       "      <td>1.0</td>\n",
       "      <td>0.0</td>\n",
       "      <td>0.0</td>\n",
       "      <td>0.0</td>\n",
       "      <td>0.0</td>\n",
       "      <td>...</td>\n",
       "      <td>0.0</td>\n",
       "      <td>0.0</td>\n",
       "      <td>0.0</td>\n",
       "      <td>0.0</td>\n",
       "      <td>0.0</td>\n",
       "      <td>0.0</td>\n",
       "      <td>1.0</td>\n",
       "      <td>0.0</td>\n",
       "      <td>0.0</td>\n",
       "      <td>0.058793</td>\n",
       "    </tr>\n",
       "    <tr>\n",
       "      <th>3</th>\n",
       "      <td>0.0</td>\n",
       "      <td>0.0</td>\n",
       "      <td>0.0</td>\n",
       "      <td>0.331555</td>\n",
       "      <td>0.0</td>\n",
       "      <td>1.0</td>\n",
       "      <td>0.0</td>\n",
       "      <td>0.0</td>\n",
       "      <td>0.0</td>\n",
       "      <td>0.0</td>\n",
       "      <td>...</td>\n",
       "      <td>0.0</td>\n",
       "      <td>0.0</td>\n",
       "      <td>0.0</td>\n",
       "      <td>0.0</td>\n",
       "      <td>0.0</td>\n",
       "      <td>0.0</td>\n",
       "      <td>0.0</td>\n",
       "      <td>1.0</td>\n",
       "      <td>0.0</td>\n",
       "      <td>0.121783</td>\n",
       "    </tr>\n",
       "    <tr>\n",
       "      <th>4</th>\n",
       "      <td>0.0</td>\n",
       "      <td>0.0</td>\n",
       "      <td>0.0</td>\n",
       "      <td>0.227985</td>\n",
       "      <td>0.0</td>\n",
       "      <td>1.0</td>\n",
       "      <td>0.0</td>\n",
       "      <td>0.0</td>\n",
       "      <td>0.0</td>\n",
       "      <td>0.0</td>\n",
       "      <td>...</td>\n",
       "      <td>0.0</td>\n",
       "      <td>0.0</td>\n",
       "      <td>0.0</td>\n",
       "      <td>0.0</td>\n",
       "      <td>0.0</td>\n",
       "      <td>1.0</td>\n",
       "      <td>0.0</td>\n",
       "      <td>0.0</td>\n",
       "      <td>0.0</td>\n",
       "      <td>0.265157</td>\n",
       "    </tr>\n",
       "  </tbody>\n",
       "</table>\n",
       "<p>5 rows × 282 columns</p>\n",
       "</div>"
      ],
      "text/plain": [
       "   0    1    2         3    4    5    6    7    8    9      ...     272  273  \\\n",
       "0  0.0  0.0  0.0  0.276266  0.0  1.0  0.0  0.0  0.0  0.0    ...     0.0  0.0   \n",
       "1  0.0  0.0  0.0  0.097392  0.0  1.0  0.0  0.0  0.0  0.0    ...     0.0  0.0   \n",
       "2  0.0  0.0  0.0  0.043360  0.0  1.0  0.0  0.0  0.0  0.0    ...     0.0  0.0   \n",
       "3  0.0  0.0  0.0  0.331555  0.0  1.0  0.0  0.0  0.0  0.0    ...     0.0  0.0   \n",
       "4  0.0  0.0  0.0  0.227985  0.0  1.0  0.0  0.0  0.0  0.0    ...     0.0  0.0   \n",
       "\n",
       "   274  275  276  277  278  279  280       281  \n",
       "0  0.0  0.0  0.0  0.0  1.0  0.0  0.0  0.067195  \n",
       "1  0.0  0.0  0.0  0.0  0.0  1.0  0.0  0.071663  \n",
       "2  0.0  0.0  0.0  0.0  1.0  0.0  0.0  0.058793  \n",
       "3  0.0  0.0  0.0  0.0  0.0  1.0  0.0  0.121783  \n",
       "4  0.0  0.0  0.0  1.0  0.0  0.0  0.0  0.265157  \n",
       "\n",
       "[5 rows x 282 columns]"
      ]
     },
     "execution_count": 78,
     "metadata": {},
     "output_type": "execute_result"
    }
   ],
   "source": [
    "# Now the all  the attributes columns contain floats between 0 and 1\n",
    "\n",
    "pd.DataFrame(X_nn).head()"
   ]
  },
  {
   "cell_type": "code",
   "execution_count": 30,
   "metadata": {
    "collapsed": true
   },
   "outputs": [],
   "source": [
    "# Splitting the data\n",
    "\n",
    "X_train, X_test, y_train, y_test = train_test_split(X_nn, y_nn, test_size=0.30, random_state=101) "
   ]
  },
  {
   "cell_type": "code",
   "execution_count": 31,
   "metadata": {},
   "outputs": [
    {
     "data": {
      "text/plain": [
       "(45603, 282)"
      ]
     },
     "execution_count": 31,
     "metadata": {},
     "output_type": "execute_result"
    }
   ],
   "source": [
    "X_train.shape"
   ]
  },
  {
   "cell_type": "code",
   "execution_count": 32,
   "metadata": {
    "collapsed": true
   },
   "outputs": [],
   "source": [
    "# Defining the base model, which is the input for the KerasClassifier we will create in the next step. \n",
    "# The base model defines the topology of the ANN: \n",
    "# - 1 hidden layer layer with 80 perceptrons (according to the formula rule of thumb --> Nh= Nt(=45603)/2*(Ni(=282)+No(=5))). \n",
    "#   RELU (rectifier) function is used for perceptron activation.\n",
    "# - Ouput layer with 5 perceptrons, 1 for each target class. A SoftMax function is used to match the one-hot o/p encoding.\n",
    "# - Adam gradient descent optimization algorithm is used\n",
    "# - A Cross-Entropy function is used as the error/loss measure.\n",
    "\n",
    "from keras import metrics\n",
    "def baseline_model():\n",
    "    model = Sequential()\n",
    "    model.add(Dense(80, input_dim=282, activation='relu'))\n",
    "    model.add(Dense(5, activation='softmax'))\n",
    "    model.compile(loss='categorical_crossentropy', optimizer='adam', metrics=['accuracy', metrics.categorical_accuracy])\n",
    "    return model"
   ]
  },
  {
   "cell_type": "code",
   "execution_count": 33,
   "metadata": {
    "collapsed": true
   },
   "outputs": [],
   "source": [
    "# creating an instance of the KerasClassifier. Inputs are:\n",
    "# - Defined baseline_model\n",
    "# - Number of iterations/epochs to run. \n",
    "# - batch size. For the size of training data we have 200 is chosen\n",
    "\n",
    "estimator = KerasClassifier(build_fn=baseline_model, epochs=100, batch_size=200, verbose=1)"
   ]
  },
  {
   "cell_type": "code",
   "execution_count": 34,
   "metadata": {},
   "outputs": [
    {
     "name": "stdout",
     "output_type": "stream",
     "text": [
      "WARNING:tensorflow:From C:\\Users\\Dina\\Anaconda3\\lib\\site-packages\\keras\\backend\\tensorflow_backend.py:2857: calling reduce_sum (from tensorflow.python.ops.math_ops) with keep_dims is deprecated and will be removed in a future version.\n",
      "Instructions for updating:\n",
      "keep_dims is deprecated, use keepdims instead\n",
      "WARNING:tensorflow:From C:\\Users\\Dina\\Anaconda3\\lib\\site-packages\\keras\\backend\\tensorflow_backend.py:1340: calling reduce_mean (from tensorflow.python.ops.math_ops) with keep_dims is deprecated and will be removed in a future version.\n",
      "Instructions for updating:\n",
      "keep_dims is deprecated, use keepdims instead\n",
      "Epoch 1/100\n",
      "45603/45603 [==============================] - 6s 140us/step - loss: 0.9361 - acc: 0.6928 - categorical_accuracy: 0.6928\n",
      "Epoch 2/100\n",
      "45603/45603 [==============================] - 1s 32us/step - loss: 0.8453 - acc: 0.7118 - categorical_accuracy: 0.7118\n",
      "Epoch 3/100\n",
      "45603/45603 [==============================] - 2s 35us/step - loss: 0.8316 - acc: 0.7118 - categorical_accuracy: 0.7118\n",
      "Epoch 4/100\n",
      "45603/45603 [==============================] - 1s 33us/step - loss: 0.8210 - acc: 0.7128 - categorical_accuracy: 0.7128\n",
      "Epoch 5/100\n",
      "45603/45603 [==============================] - 2s 33us/step - loss: 0.8108 - acc: 0.7131 - categorical_accuracy: 0.7131\n",
      "Epoch 6/100\n",
      "45603/45603 [==============================] - 2s 34us/step - loss: 0.8013 - acc: 0.7143 - categorical_accuracy: 0.7143\n",
      "Epoch 7/100\n",
      "45603/45603 [==============================] - 2s 33us/step - loss: 0.7926 - acc: 0.7155 - categorical_accuracy: 0.7155 1s - loss:\n",
      "Epoch 8/100\n",
      "45603/45603 [==============================] - 2s 34us/step - loss: 0.7836 - acc: 0.7171 - categorical_accuracy: 0.7171\n",
      "Epoch 9/100\n",
      "45603/45603 [==============================] - 2s 34us/step - loss: 0.7760 - acc: 0.7180 - categorical_accuracy: 0.7180\n",
      "Epoch 10/100\n",
      "45603/45603 [==============================] - 1s 33us/step - loss: 0.7680 - acc: 0.7197 - categorical_accuracy: 0.7197\n",
      "Epoch 11/100\n",
      "45603/45603 [==============================] - 2s 35us/step - loss: 0.7603 - acc: 0.7223 - categorical_accuracy: 0.7223\n",
      "Epoch 12/100\n",
      "45603/45603 [==============================] - 2s 33us/step - loss: 0.7539 - acc: 0.7245 - categorical_accuracy: 0.7245\n",
      "Epoch 13/100\n",
      "45603/45603 [==============================] - 2s 35us/step - loss: 0.7471 - acc: 0.7265 - categorical_accuracy: 0.7265\n",
      "Epoch 14/100\n",
      "45603/45603 [==============================] - 2s 34us/step - loss: 0.7408 - acc: 0.7284 - categorical_accuracy: 0.7284\n",
      "Epoch 15/100\n",
      "45603/45603 [==============================] - 2s 33us/step - loss: 0.7351 - acc: 0.7304 - categorical_accuracy: 0.7304\n",
      "Epoch 16/100\n",
      "45603/45603 [==============================] - 2s 34us/step - loss: 0.7302 - acc: 0.7322 - categorical_accuracy: 0.7322\n",
      "Epoch 17/100\n",
      "45603/45603 [==============================] - 1s 32us/step - loss: 0.7244 - acc: 0.7326 - categorical_accuracy: 0.7326\n",
      "Epoch 18/100\n",
      "45603/45603 [==============================] - 2s 35us/step - loss: 0.7196 - acc: 0.7352 - categorical_accuracy: 0.7352\n",
      "Epoch 19/100\n",
      "45603/45603 [==============================] - 2s 35us/step - loss: 0.7146 - acc: 0.7371 - categorical_accuracy: 0.7371\n",
      "Epoch 20/100\n",
      "45603/45603 [==============================] - 2s 33us/step - loss: 0.7108 - acc: 0.7387 - categorical_accuracy: 0.7387\n",
      "Epoch 21/100\n",
      "45603/45603 [==============================] - 2s 34us/step - loss: 0.7072 - acc: 0.7400 - categorical_accuracy: 0.7400\n",
      "Epoch 22/100\n",
      "45603/45603 [==============================] - 1s 32us/step - loss: 0.7009 - acc: 0.7429 - categorical_accuracy: 0.7429\n",
      "Epoch 23/100\n",
      "45603/45603 [==============================] - 2s 35us/step - loss: 0.6984 - acc: 0.7440 - categorical_accuracy: 0.7440\n",
      "Epoch 24/100\n",
      "45603/45603 [==============================] - 2s 34us/step - loss: 0.6939 - acc: 0.7453 - categorical_accuracy: 0.7453\n",
      "Epoch 25/100\n",
      "45603/45603 [==============================] - 1s 33us/step - loss: 0.6898 - acc: 0.7460 - categorical_accuracy: 0.7460\n",
      "Epoch 26/100\n",
      "45603/45603 [==============================] - 2s 34us/step - loss: 0.6862 - acc: 0.7489 - categorical_accuracy: 0.7489\n",
      "Epoch 27/100\n",
      "45603/45603 [==============================] - 2s 33us/step - loss: 0.6838 - acc: 0.7497 - categorical_accuracy: 0.7497\n",
      "Epoch 28/100\n",
      "45603/45603 [==============================] - 2s 34us/step - loss: 0.6809 - acc: 0.7487 - categorical_accuracy: 0.7487 0s - loss: 0.6816 - acc: 0.7486 - ca\n",
      "Epoch 29/100\n",
      "45603/45603 [==============================] - 2s 33us/step - loss: 0.6773 - acc: 0.7516 - categorical_accuracy: 0.7516\n",
      "Epoch 30/100\n",
      "45603/45603 [==============================] - 2s 33us/step - loss: 0.6737 - acc: 0.7527 - categorical_accuracy: 0.7527\n",
      "Epoch 31/100\n",
      "45603/45603 [==============================] - 2s 35us/step - loss: 0.6697 - acc: 0.7539 - categorical_accuracy: 0.7539\n",
      "Epoch 32/100\n",
      "45603/45603 [==============================] - 2s 33us/step - loss: 0.6674 - acc: 0.7536 - categorical_accuracy: 0.7536\n",
      "Epoch 33/100\n",
      "45603/45603 [==============================] - 2s 35us/step - loss: 0.6629 - acc: 0.7557 - categorical_accuracy: 0.7557\n",
      "Epoch 34/100\n",
      "45603/45603 [==============================] - 2s 37us/step - loss: 0.6606 - acc: 0.7576 - categorical_accuracy: 0.7576\n",
      "Epoch 35/100\n",
      "45603/45603 [==============================] - 1s 32us/step - loss: 0.6578 - acc: 0.7580 - categorical_accuracy: 0.7580\n",
      "Epoch 36/100\n",
      "45603/45603 [==============================] - 2s 35us/step - loss: 0.6550 - acc: 0.7591 - categorical_accuracy: 0.7591\n",
      "Epoch 37/100\n",
      "45603/45603 [==============================] - 2s 34us/step - loss: 0.6516 - acc: 0.7598 - categorical_accuracy: 0.7598\n",
      "Epoch 38/100\n",
      "45603/45603 [==============================] - 2s 36us/step - loss: 0.6492 - acc: 0.7608 - categorical_accuracy: 0.7608\n",
      "Epoch 39/100\n",
      "45603/45603 [==============================] - 2s 36us/step - loss: 0.6469 - acc: 0.7610 - categorical_accuracy: 0.7610\n",
      "Epoch 40/100\n",
      "45603/45603 [==============================] - 2s 34us/step - loss: 0.6427 - acc: 0.7633 - categorical_accuracy: 0.7633\n",
      "Epoch 41/100\n",
      "45603/45603 [==============================] - 2s 36us/step - loss: 0.6427 - acc: 0.7631 - categorical_accuracy: 0.7631\n",
      "Epoch 42/100\n",
      "45603/45603 [==============================] - 2s 34us/step - loss: 0.6397 - acc: 0.7641 - categorical_accuracy: 0.7641\n",
      "Epoch 43/100\n",
      "45603/45603 [==============================] - 2s 33us/step - loss: 0.6363 - acc: 0.7658 - categorical_accuracy: 0.7658\n",
      "Epoch 44/100\n",
      "45603/45603 [==============================] - 2s 34us/step - loss: 0.6355 - acc: 0.7663 - categorical_accuracy: 0.7663\n",
      "Epoch 45/100\n",
      "45603/45603 [==============================] - 1s 32us/step - loss: 0.6333 - acc: 0.7672 - categorical_accuracy: 0.7672\n",
      "Epoch 46/100\n",
      "45603/45603 [==============================] - 2s 34us/step - loss: 0.6299 - acc: 0.7678 - categorical_accuracy: 0.7678\n",
      "Epoch 47/100\n",
      "45603/45603 [==============================] - 1s 32us/step - loss: 0.6266 - acc: 0.7688 - categorical_accuracy: 0.7688\n",
      "Epoch 48/100\n",
      "45603/45603 [==============================] - 2s 33us/step - loss: 0.6235 - acc: 0.7697 - categorical_accuracy: 0.7697\n",
      "Epoch 49/100\n",
      "45603/45603 [==============================] - 2s 35us/step - loss: 0.6220 - acc: 0.7716 - categorical_accuracy: 0.7716\n",
      "Epoch 50/100\n",
      "45603/45603 [==============================] - 2s 34us/step - loss: 0.6188 - acc: 0.7724 - categorical_accuracy: 0.7724\n",
      "Epoch 51/100\n",
      "45603/45603 [==============================] - 2s 35us/step - loss: 0.6178 - acc: 0.7720 - categorical_accuracy: 0.7720\n",
      "Epoch 52/100\n",
      "45603/45603 [==============================] - 2s 34us/step - loss: 0.6152 - acc: 0.7739 - categorical_accuracy: 0.7739\n",
      "Epoch 53/100\n",
      "45603/45603 [==============================] - 2s 34us/step - loss: 0.6131 - acc: 0.7741 - categorical_accuracy: 0.7741\n",
      "Epoch 54/100\n",
      "45603/45603 [==============================] - 2s 35us/step - loss: 0.6100 - acc: 0.7755 - categorical_accuracy: 0.7755\n",
      "Epoch 55/100\n",
      "45603/45603 [==============================] - 2s 33us/step - loss: 0.6095 - acc: 0.7739 - categorical_accuracy: 0.7739\n",
      "Epoch 56/100\n",
      "45603/45603 [==============================] - 2s 35us/step - loss: 0.6059 - acc: 0.7762 - categorical_accuracy: 0.7762\n",
      "Epoch 57/100\n"
     ]
    },
    {
     "name": "stdout",
     "output_type": "stream",
     "text": [
      "45603/45603 [==============================] - 2s 35us/step - loss: 0.6066 - acc: 0.7765 - categorical_accuracy: 0.7765\n",
      "Epoch 58/100\n",
      "45603/45603 [==============================] - 1s 32us/step - loss: 0.6040 - acc: 0.7768 - categorical_accuracy: 0.7768\n",
      "Epoch 59/100\n",
      "45603/45603 [==============================] - 2s 35us/step - loss: 0.6024 - acc: 0.7781 - categorical_accuracy: 0.7781\n",
      "Epoch 60/100\n",
      "45603/45603 [==============================] - 1s 31us/step - loss: 0.5985 - acc: 0.7795 - categorical_accuracy: 0.7795\n",
      "Epoch 61/100\n",
      "45603/45603 [==============================] - 2s 35us/step - loss: 0.5974 - acc: 0.7791 - categorical_accuracy: 0.7791\n",
      "Epoch 62/100\n",
      "45603/45603 [==============================] - 2s 33us/step - loss: 0.5944 - acc: 0.7814 - categorical_accuracy: 0.7814\n",
      "Epoch 63/100\n",
      "45603/45603 [==============================] - 1s 32us/step - loss: 0.5935 - acc: 0.7819 - categorical_accuracy: 0.7819\n",
      "Epoch 64/100\n",
      "45603/45603 [==============================] - 2s 33us/step - loss: 0.5909 - acc: 0.7807 - categorical_accuracy: 0.7807\n",
      "Epoch 65/100\n",
      "45603/45603 [==============================] - 1s 32us/step - loss: 0.5889 - acc: 0.7828 - categorical_accuracy: 0.7828\n",
      "Epoch 66/100\n",
      "45603/45603 [==============================] - 2s 34us/step - loss: 0.5870 - acc: 0.7831 - categorical_accuracy: 0.7831\n",
      "Epoch 67/100\n",
      "45603/45603 [==============================] - 1s 32us/step - loss: 0.5852 - acc: 0.7827 - categorical_accuracy: 0.7827\n",
      "Epoch 68/100\n",
      "45603/45603 [==============================] - 1s 32us/step - loss: 0.5848 - acc: 0.7838 - categorical_accuracy: 0.7838\n",
      "Epoch 69/100\n",
      "45603/45603 [==============================] - 2s 34us/step - loss: 0.5814 - acc: 0.7856 - categorical_accuracy: 0.7856\n",
      "Epoch 70/100\n",
      "45603/45603 [==============================] - 1s 32us/step - loss: 0.5797 - acc: 0.7859 - categorical_accuracy: 0.7859\n",
      "Epoch 71/100\n",
      "45603/45603 [==============================] - 1s 32us/step - loss: 0.5807 - acc: 0.7860 - categorical_accuracy: 0.7860\n",
      "Epoch 72/100\n",
      "45603/45603 [==============================] - 1s 32us/step - loss: 0.5768 - acc: 0.7859 - categorical_accuracy: 0.7859\n",
      "Epoch 73/100\n",
      "45603/45603 [==============================] - 2s 34us/step - loss: 0.5767 - acc: 0.7877 - categorical_accuracy: 0.7877\n",
      "Epoch 74/100\n",
      "45603/45603 [==============================] - 2s 33us/step - loss: 0.5758 - acc: 0.7863 - categorical_accuracy: 0.7863\n",
      "Epoch 75/100\n",
      "45603/45603 [==============================] - 1s 31us/step - loss: 0.5713 - acc: 0.7885 - categorical_accuracy: 0.7885\n",
      "Epoch 76/100\n",
      "45603/45603 [==============================] - 1s 33us/step - loss: 0.5714 - acc: 0.7901 - categorical_accuracy: 0.7901 1s - loss: 0.5605 - acc: 0.7971 - categorical_accuracy: 0.79 - ETA: 1s - loss: 0\n",
      "Epoch 77/100\n",
      "45603/45603 [==============================] - 1s 32us/step - loss: 0.5693 - acc: 0.7900 - categorical_accuracy: 0.7900\n",
      "Epoch 78/100\n",
      "45603/45603 [==============================] - 2s 33us/step - loss: 0.5680 - acc: 0.7908 - categorical_accuracy: 0.7908\n",
      "Epoch 79/100\n",
      "45603/45603 [==============================] - 2s 33us/step - loss: 0.5662 - acc: 0.7903 - categorical_accuracy: 0.7903\n",
      "Epoch 80/100\n",
      "45603/45603 [==============================] - 1s 32us/step - loss: 0.5645 - acc: 0.7925 - categorical_accuracy: 0.7925\n",
      "Epoch 81/100\n",
      "45603/45603 [==============================] - 2s 34us/step - loss: 0.5639 - acc: 0.7915 - categorical_accuracy: 0.7915\n",
      "Epoch 82/100\n",
      "45603/45603 [==============================] - 2s 33us/step - loss: 0.5641 - acc: 0.7919 - categorical_accuracy: 0.7919\n",
      "Epoch 83/100\n",
      "45603/45603 [==============================] - 2s 33us/step - loss: 0.5589 - acc: 0.7932 - categorical_accuracy: 0.7932 1s - los\n",
      "Epoch 84/100\n",
      "45603/45603 [==============================] - 2s 33us/step - loss: 0.5609 - acc: 0.7919 - categorical_accuracy: 0.7919\n",
      "Epoch 85/100\n",
      "45603/45603 [==============================] - 2s 33us/step - loss: 0.5598 - acc: 0.7937 - categorical_accuracy: 0.7937\n",
      "Epoch 86/100\n",
      "45603/45603 [==============================] - ETA: 0s - loss: 0.5562 - acc: 0.7946 - categorical_accuracy: 0.79 - 2s 34us/step - loss: 0.5566 - acc: 0.7944 - categorical_accuracy: 0.7944\n",
      "Epoch 87/100\n",
      "45603/45603 [==============================] - 1s 32us/step - loss: 0.5548 - acc: 0.7954 - categorical_accuracy: 0.7954\n",
      "Epoch 88/100\n",
      "45603/45603 [==============================] - 2s 35us/step - loss: 0.5523 - acc: 0.7974 - categorical_accuracy: 0.7974\n",
      "Epoch 89/100\n",
      "45603/45603 [==============================] - 2s 35us/step - loss: 0.5506 - acc: 0.7978 - categorical_accuracy: 0.7978\n",
      "Epoch 90/100\n",
      "45603/45603 [==============================] - 2s 33us/step - loss: 0.5500 - acc: 0.7964 - categorical_accuracy: 0.7964\n",
      "Epoch 91/100\n",
      "45603/45603 [==============================] - 2s 34us/step - loss: 0.5480 - acc: 0.7974 - categorical_accuracy: 0.7974\n",
      "Epoch 92/100\n",
      "45603/45603 [==============================] - 2s 34us/step - loss: 0.5500 - acc: 0.7968 - categorical_accuracy: 0.7968\n",
      "Epoch 93/100\n",
      "45603/45603 [==============================] - 2s 35us/step - loss: 0.5473 - acc: 0.7967 - categorical_accuracy: 0.7967\n",
      "Epoch 94/100\n",
      "45603/45603 [==============================] - 2s 35us/step - loss: 0.5456 - acc: 0.7986 - categorical_accuracy: 0.7986\n",
      "Epoch 95/100\n",
      "45603/45603 [==============================] - 2s 34us/step - loss: 0.5431 - acc: 0.7992 - categorical_accuracy: 0.7992\n",
      "Epoch 96/100\n",
      "45603/45603 [==============================] - 2s 36us/step - loss: 0.5470 - acc: 0.7983 - categorical_accuracy: 0.7983\n",
      "Epoch 97/100\n",
      "45603/45603 [==============================] - 2s 35us/step - loss: 0.5403 - acc: 0.8008 - categorical_accuracy: 0.8008\n",
      "Epoch 98/100\n",
      "45603/45603 [==============================] - 2s 33us/step - loss: 0.5395 - acc: 0.8019 - categorical_accuracy: 0.8019\n",
      "Epoch 99/100\n",
      "45603/45603 [==============================] - 2s 34us/step - loss: 0.5415 - acc: 0.8007 - categorical_accuracy: 0.8007\n",
      "Epoch 100/100\n",
      "45603/45603 [==============================] - 1s 32us/step - loss: 0.5382 - acc: 0.8017 - categorical_accuracy: 0.8017\n"
     ]
    },
    {
     "data": {
      "text/plain": [
       "<keras.callbacks.History at 0x63a61ac400>"
      ]
     },
     "execution_count": 34,
     "metadata": {},
     "output_type": "execute_result"
    }
   ],
   "source": [
    "estimator.fit(X_train, y_train)"
   ]
  },
  {
   "cell_type": "code",
   "execution_count": 35,
   "metadata": {},
   "outputs": [
    {
     "name": "stdout",
     "output_type": "stream",
     "text": [
      "19545/19545 [==============================] - 0s 15us/step\n"
     ]
    }
   ],
   "source": [
    "predictions = estimator.predict(X_test)"
   ]
  },
  {
   "cell_type": "code",
   "execution_count": 36,
   "metadata": {},
   "outputs": [
    {
     "name": "stderr",
     "output_type": "stream",
     "text": [
      "C:\\Users\\Dina\\Anaconda3\\lib\\site-packages\\sklearn\\preprocessing\\label.py:151: DeprecationWarning: The truth value of an empty array is ambiguous. Returning False, but in future this will result in an error. Use `array.size > 0` to check that an array is not empty.\n",
      "  if diff:\n",
      "C:\\Users\\Dina\\Anaconda3\\lib\\site-packages\\sklearn\\preprocessing\\label.py:151: DeprecationWarning: The truth value of an empty array is ambiguous. Returning False, but in future this will result in an error. Use `array.size > 0` to check that an array is not empty.\n",
      "  if diff:\n"
     ]
    }
   ],
   "source": [
    "predictions_label = encoder.inverse_transform(predictions)\n",
    "y_test_int = np.argmax(y_test,1)\n",
    "y_test_label = encoder.inverse_transform(y_test_int)"
   ]
  },
  {
   "cell_type": "code",
   "execution_count": 37,
   "metadata": {},
   "outputs": [
    {
     "name": "stdout",
     "output_type": "stream",
     "text": [
      "[[    7    46   136    43     9]\n",
      " [   23   258  1360   241    44]\n",
      " [   46   621 12230   932   120]\n",
      " [   21   205  1856   532    70]\n",
      " [   12    73   438   163    59]]\n",
      "             precision    recall  f1-score   support\n",
      "\n",
      "          A       0.06      0.03      0.04       241\n",
      "          B       0.21      0.13      0.16      1926\n",
      "          C       0.76      0.88      0.82     13949\n",
      "          D       0.28      0.20      0.23      2684\n",
      "          E       0.20      0.08      0.11       745\n",
      "\n",
      "avg / total       0.61      0.67      0.64     19545\n",
      "\n"
     ]
    }
   ],
   "source": [
    "print(confusion_matrix(y_test_label,predictions_label))\n",
    "\n",
    "print(classification_report(y_test_label,predictions_label))"
   ]
  },
  {
   "cell_type": "code",
   "execution_count": 38,
   "metadata": {
    "collapsed": true
   },
   "outputs": [],
   "source": [
    "# The model performed in terms of average f1-score the same as the base model with RF. Next Steps can be:\n",
    "\n",
    "# - Tune parameters of the ANN further: number of training epochs and number of perceptrons in hidden layer.\n",
    "# - Add another hidden layer. This may improve performance but will be difficult to train.\n",
    "# - Address class imbalance by using a random under sampler"
   ]
  },
  {
   "cell_type": "code",
   "execution_count": 39,
   "metadata": {},
   "outputs": [
    {
     "data": {
      "text/plain": [
       "C    834\n",
       "E    834\n",
       "D    834\n",
       "B    834\n",
       "A    834\n",
       "Name: 0, dtype: int64"
      ]
     },
     "execution_count": 39,
     "metadata": {},
     "output_type": "execute_result"
    }
   ],
   "source": [
    "# I will try the thrid option here, which is to under sample and then repeat training and testing.\n",
    "\n",
    "from imblearn.under_sampling import RandomUnderSampler \n",
    "\n",
    "rus = RandomUnderSampler(random_state=101)\n",
    "X = df.drop('response', axis = 1)\n",
    "y = df['response']\n",
    "X_res, y_res = rus.fit_sample(X, y)\n",
    "dfy_res = pd.DataFrame(y_res)\n",
    "dfy_res[0].value_counts()"
   ]
  },
  {
   "cell_type": "code",
   "execution_count": 40,
   "metadata": {},
   "outputs": [
    {
     "data": {
      "text/plain": [
       "(2919, 282)"
      ]
     },
     "execution_count": 40,
     "metadata": {},
     "output_type": "execute_result"
    }
   ],
   "source": [
    "# Now we have a balanced data set of 4170 records and 282 attributes.\n",
    "\n",
    "# Repeating prepping the inputs to the ANN and splitting the data\n",
    "encoder = LabelEncoder()\n",
    "encoder.fit(y_res)\n",
    "encoded_Y = encoder.transform(y_res)\n",
    "\n",
    "# convert integers to dummy variables (i.e. one hot encoded)\n",
    "y_nn = np_utils.to_categorical(encoded_Y)\n",
    "\n",
    "#Scaling non-binary columns to the range (0,1). This will not affect the values in the binary columns.\n",
    "\n",
    "scaler = MinMaxScaler()\n",
    "X_nn = scaler.fit_transform(X_res)\n",
    "\n",
    "# Splitting the data\n",
    "\n",
    "X_train, X_test, y_train, y_test = train_test_split(X_nn, y_nn, test_size=0.30, random_state=101) \n",
    "\n",
    "X_train.shape"
   ]
  },
  {
   "cell_type": "code",
   "execution_count": 41,
   "metadata": {},
   "outputs": [
    {
     "name": "stdout",
     "output_type": "stream",
     "text": [
      "Epoch 1/100\n",
      "2919/2919 [==============================] - 6s 2ms/step - loss: 1.6094 - acc: 0.2285 - categorical_accuracy: 0.2285\n",
      "Epoch 2/100\n",
      "2919/2919 [==============================] - 0s 33us/step - loss: 1.5717 - acc: 0.2809 - categorical_accuracy: 0.2809\n",
      "Epoch 3/100\n",
      "2919/2919 [==============================] - 0s 33us/step - loss: 1.5415 - acc: 0.3207 - categorical_accuracy: 0.3207 0s - loss: 1.5430 - acc: 0.3217 - categorical_accuracy: 0.32\n",
      "Epoch 4/100\n",
      "2919/2919 [==============================] - 0s 32us/step - loss: 1.5128 - acc: 0.3470 - categorical_accuracy: 0.3470\n",
      "Epoch 5/100\n",
      "2919/2919 [==============================] - 0s 34us/step - loss: 1.4870 - acc: 0.3693 - categorical_accuracy: 0.3693\n",
      "Epoch 6/100\n",
      "2919/2919 [==============================] - 0s 34us/step - loss: 1.4619 - acc: 0.3868 - categorical_accuracy: 0.3868\n",
      "Epoch 7/100\n",
      "2919/2919 [==============================] - 0s 36us/step - loss: 1.4390 - acc: 0.4018 - categorical_accuracy: 0.4018\n",
      "Epoch 8/100\n",
      "2919/2919 [==============================] - 0s 37us/step - loss: 1.4165 - acc: 0.4186 - categorical_accuracy: 0.4186\n",
      "Epoch 9/100\n",
      "2919/2919 [==============================] - 0s 38us/step - loss: 1.3964 - acc: 0.4248 - categorical_accuracy: 0.4248\n",
      "Epoch 10/100\n",
      "2919/2919 [==============================] - 0s 39us/step - loss: 1.3764 - acc: 0.4430 - categorical_accuracy: 0.4430\n",
      "Epoch 11/100\n",
      "2919/2919 [==============================] - 0s 37us/step - loss: 1.3583 - acc: 0.4536 - categorical_accuracy: 0.4536\n",
      "Epoch 12/100\n",
      "2919/2919 [==============================] - 0s 38us/step - loss: 1.3399 - acc: 0.4724 - categorical_accuracy: 0.4724\n",
      "Epoch 13/100\n",
      "2919/2919 [==============================] - 0s 35us/step - loss: 1.3213 - acc: 0.4793 - categorical_accuracy: 0.4793\n",
      "Epoch 14/100\n",
      "2919/2919 [==============================] - 0s 39us/step - loss: 1.3051 - acc: 0.4913 - categorical_accuracy: 0.4913\n",
      "Epoch 15/100\n",
      "2919/2919 [==============================] - 0s 36us/step - loss: 1.2876 - acc: 0.5019 - categorical_accuracy: 0.5019\n",
      "Epoch 16/100\n",
      "2919/2919 [==============================] - 0s 34us/step - loss: 1.2713 - acc: 0.5156 - categorical_accuracy: 0.5156\n",
      "Epoch 17/100\n",
      "2919/2919 [==============================] - 0s 32us/step - loss: 1.2563 - acc: 0.5180 - categorical_accuracy: 0.5180\n",
      "Epoch 18/100\n",
      "2919/2919 [==============================] - 0s 32us/step - loss: 1.2408 - acc: 0.5382 - categorical_accuracy: 0.5382\n",
      "Epoch 19/100\n",
      "2919/2919 [==============================] - 0s 34us/step - loss: 1.2238 - acc: 0.5385 - categorical_accuracy: 0.5385\n",
      "Epoch 20/100\n",
      "2919/2919 [==============================] - 0s 35us/step - loss: 1.2092 - acc: 0.5536 - categorical_accuracy: 0.5536\n",
      "Epoch 21/100\n",
      "2919/2919 [==============================] - 0s 33us/step - loss: 1.1940 - acc: 0.5639 - categorical_accuracy: 0.5639\n",
      "Epoch 22/100\n",
      "2919/2919 [==============================] - 0s 34us/step - loss: 1.1783 - acc: 0.5683 - categorical_accuracy: 0.5683\n",
      "Epoch 23/100\n",
      "2919/2919 [==============================] - 0s 35us/step - loss: 1.1644 - acc: 0.5752 - categorical_accuracy: 0.5752\n",
      "Epoch 24/100\n",
      "2919/2919 [==============================] - 0s 32us/step - loss: 1.1499 - acc: 0.5934 - categorical_accuracy: 0.5934\n",
      "Epoch 25/100\n",
      "2919/2919 [==============================] - 0s 35us/step - loss: 1.1351 - acc: 0.5940 - categorical_accuracy: 0.5940\n",
      "Epoch 26/100\n",
      "2919/2919 [==============================] - 0s 35us/step - loss: 1.1218 - acc: 0.6047 - categorical_accuracy: 0.6047\n",
      "Epoch 27/100\n",
      "2919/2919 [==============================] - 0s 35us/step - loss: 1.1064 - acc: 0.6125 - categorical_accuracy: 0.6125\n",
      "Epoch 28/100\n",
      "2919/2919 [==============================] - 0s 36us/step - loss: 1.0928 - acc: 0.6173 - categorical_accuracy: 0.6173\n",
      "Epoch 29/100\n",
      "2919/2919 [==============================] - 0s 36us/step - loss: 1.0785 - acc: 0.6304 - categorical_accuracy: 0.6304\n",
      "Epoch 30/100\n",
      "2919/2919 [==============================] - 0s 32us/step - loss: 1.0649 - acc: 0.6314 - categorical_accuracy: 0.6314\n",
      "Epoch 31/100\n",
      "2919/2919 [==============================] - 0s 35us/step - loss: 1.0524 - acc: 0.6386 - categorical_accuracy: 0.6386\n",
      "Epoch 32/100\n",
      "2919/2919 [==============================] - 0s 36us/step - loss: 1.0379 - acc: 0.6430 - categorical_accuracy: 0.6430\n",
      "Epoch 33/100\n",
      "2919/2919 [==============================] - 0s 35us/step - loss: 1.0232 - acc: 0.6530 - categorical_accuracy: 0.6530\n",
      "Epoch 34/100\n",
      "2919/2919 [==============================] - 0s 35us/step - loss: 1.0112 - acc: 0.6622 - categorical_accuracy: 0.6622\n",
      "Epoch 35/100\n",
      "2919/2919 [==============================] - 0s 34us/step - loss: 0.9971 - acc: 0.6680 - categorical_accuracy: 0.6680\n",
      "Epoch 36/100\n",
      "2919/2919 [==============================] - 0s 35us/step - loss: 0.9837 - acc: 0.6766 - categorical_accuracy: 0.6766\n",
      "Epoch 37/100\n",
      "2919/2919 [==============================] - 0s 37us/step - loss: 0.9705 - acc: 0.6835 - categorical_accuracy: 0.6835\n",
      "Epoch 38/100\n",
      "2919/2919 [==============================] - 0s 38us/step - loss: 0.9583 - acc: 0.6944 - categorical_accuracy: 0.6944\n",
      "Epoch 39/100\n",
      "2919/2919 [==============================] - 0s 40us/step - loss: 0.9442 - acc: 0.6999 - categorical_accuracy: 0.6999\n",
      "Epoch 40/100\n",
      "2919/2919 [==============================] - 0s 36us/step - loss: 0.9315 - acc: 0.7016 - categorical_accuracy: 0.7016\n",
      "Epoch 41/100\n",
      "2919/2919 [==============================] - 0s 34us/step - loss: 0.9197 - acc: 0.7047 - categorical_accuracy: 0.7047\n",
      "Epoch 42/100\n",
      "2919/2919 [==============================] - 0s 34us/step - loss: 0.9067 - acc: 0.7153 - categorical_accuracy: 0.7153\n",
      "Epoch 43/100\n",
      "2919/2919 [==============================] - 0s 34us/step - loss: 0.8936 - acc: 0.7194 - categorical_accuracy: 0.7194\n",
      "Epoch 44/100\n",
      "2919/2919 [==============================] - 0s 34us/step - loss: 0.8801 - acc: 0.7287 - categorical_accuracy: 0.7287\n",
      "Epoch 45/100\n",
      "2919/2919 [==============================] - 0s 35us/step - loss: 0.8675 - acc: 0.7359 - categorical_accuracy: 0.7359\n",
      "Epoch 46/100\n",
      "2919/2919 [==============================] - 0s 34us/step - loss: 0.8551 - acc: 0.7407 - categorical_accuracy: 0.7407\n",
      "Epoch 47/100\n",
      "2919/2919 [==============================] - 0s 33us/step - loss: 0.8425 - acc: 0.7458 - categorical_accuracy: 0.7458\n",
      "Epoch 48/100\n",
      "2919/2919 [==============================] - 0s 32us/step - loss: 0.8302 - acc: 0.7496 - categorical_accuracy: 0.7496\n",
      "Epoch 49/100\n",
      "2919/2919 [==============================] - 0s 33us/step - loss: 0.8182 - acc: 0.7564 - categorical_accuracy: 0.7564\n",
      "Epoch 50/100\n",
      "2919/2919 [==============================] - 0s 33us/step - loss: 0.8061 - acc: 0.7609 - categorical_accuracy: 0.7609\n",
      "Epoch 51/100\n",
      "2919/2919 [==============================] - 0s 32us/step - loss: 0.7938 - acc: 0.7660 - categorical_accuracy: 0.7660\n",
      "Epoch 52/100\n",
      "2919/2919 [==============================] - 0s 32us/step - loss: 0.7818 - acc: 0.7790 - categorical_accuracy: 0.7790\n",
      "Epoch 53/100\n",
      "2919/2919 [==============================] - 0s 34us/step - loss: 0.7702 - acc: 0.7783 - categorical_accuracy: 0.7783\n",
      "Epoch 54/100\n",
      "2919/2919 [==============================] - 0s 33us/step - loss: 0.7586 - acc: 0.7849 - categorical_accuracy: 0.7849\n",
      "Epoch 55/100\n",
      "2919/2919 [==============================] - 0s 33us/step - loss: 0.7467 - acc: 0.7941 - categorical_accuracy: 0.7941\n",
      "Epoch 56/100\n",
      "2919/2919 [==============================] - 0s 33us/step - loss: 0.7357 - acc: 0.7982 - categorical_accuracy: 0.7982\n",
      "Epoch 57/100\n",
      "2919/2919 [==============================] - 0s 35us/step - loss: 0.7247 - acc: 0.8034 - categorical_accuracy: 0.8034\n",
      "Epoch 58/100\n",
      "2919/2919 [==============================] - 0s 35us/step - loss: 0.7134 - acc: 0.8044 - categorical_accuracy: 0.8044\n",
      "Epoch 59/100\n",
      "2919/2919 [==============================] - 0s 38us/step - loss: 0.7042 - acc: 0.8153 - categorical_accuracy: 0.8153\n",
      "Epoch 60/100\n",
      "2919/2919 [==============================] - 0s 39us/step - loss: 0.6920 - acc: 0.8198 - categorical_accuracy: 0.8198\n",
      "Epoch 61/100\n",
      "2919/2919 [==============================] - 0s 39us/step - loss: 0.6815 - acc: 0.8236 - categorical_accuracy: 0.8236\n",
      "Epoch 62/100\n",
      "2919/2919 [==============================] - 0s 37us/step - loss: 0.6723 - acc: 0.8249 - categorical_accuracy: 0.8249\n",
      "Epoch 63/100\n"
     ]
    },
    {
     "name": "stdout",
     "output_type": "stream",
     "text": [
      "2919/2919 [==============================] - 0s 37us/step - loss: 0.6601 - acc: 0.8308 - categorical_accuracy: 0.8308\n",
      "Epoch 64/100\n",
      "2919/2919 [==============================] - 0s 33us/step - loss: 0.6490 - acc: 0.8373 - categorical_accuracy: 0.8373\n",
      "Epoch 65/100\n",
      "2919/2919 [==============================] - 0s 33us/step - loss: 0.6387 - acc: 0.8438 - categorical_accuracy: 0.8438\n",
      "Epoch 66/100\n",
      "2919/2919 [==============================] - 0s 33us/step - loss: 0.6290 - acc: 0.8434 - categorical_accuracy: 0.8434\n",
      "Epoch 67/100\n",
      "2919/2919 [==============================] - 0s 36us/step - loss: 0.6203 - acc: 0.8469 - categorical_accuracy: 0.8469\n",
      "Epoch 68/100\n",
      "2919/2919 [==============================] - 0s 33us/step - loss: 0.6110 - acc: 0.8520 - categorical_accuracy: 0.8520\n",
      "Epoch 69/100\n",
      "2919/2919 [==============================] - 0s 33us/step - loss: 0.6008 - acc: 0.8537 - categorical_accuracy: 0.8537\n",
      "Epoch 70/100\n",
      "2919/2919 [==============================] - 0s 32us/step - loss: 0.5919 - acc: 0.8606 - categorical_accuracy: 0.8606\n",
      "Epoch 71/100\n",
      "2919/2919 [==============================] - 0s 33us/step - loss: 0.5808 - acc: 0.8602 - categorical_accuracy: 0.8602\n",
      "Epoch 72/100\n",
      "2919/2919 [==============================] - 0s 34us/step - loss: 0.5721 - acc: 0.8640 - categorical_accuracy: 0.8640\n",
      "Epoch 73/100\n",
      "2919/2919 [==============================] - 0s 33us/step - loss: 0.5629 - acc: 0.8657 - categorical_accuracy: 0.8657\n",
      "Epoch 74/100\n",
      "2919/2919 [==============================] - 0s 34us/step - loss: 0.5541 - acc: 0.8684 - categorical_accuracy: 0.8684\n",
      "Epoch 75/100\n",
      "2919/2919 [==============================] - 0s 33us/step - loss: 0.5440 - acc: 0.8760 - categorical_accuracy: 0.8760\n",
      "Epoch 76/100\n",
      "2919/2919 [==============================] - 0s 35us/step - loss: 0.5360 - acc: 0.8770 - categorical_accuracy: 0.8770\n",
      "Epoch 77/100\n",
      "2919/2919 [==============================] - 0s 36us/step - loss: 0.5282 - acc: 0.8787 - categorical_accuracy: 0.8787\n",
      "Epoch 78/100\n",
      "2919/2919 [==============================] - 0s 36us/step - loss: 0.5200 - acc: 0.8859 - categorical_accuracy: 0.8859\n",
      "Epoch 79/100\n",
      "2919/2919 [==============================] - 0s 34us/step - loss: 0.5117 - acc: 0.8869 - categorical_accuracy: 0.8869\n",
      "Epoch 80/100\n",
      "2919/2919 [==============================] - 0s 36us/step - loss: 0.5021 - acc: 0.8914 - categorical_accuracy: 0.8914\n",
      "Epoch 81/100\n",
      "2919/2919 [==============================] - 0s 38us/step - loss: 0.4945 - acc: 0.8921 - categorical_accuracy: 0.8921\n",
      "Epoch 82/100\n",
      "2919/2919 [==============================] - 0s 37us/step - loss: 0.4871 - acc: 0.8969 - categorical_accuracy: 0.8969\n",
      "Epoch 83/100\n",
      "2919/2919 [==============================] - 0s 35us/step - loss: 0.4796 - acc: 0.8993 - categorical_accuracy: 0.8993\n",
      "Epoch 84/100\n",
      "2919/2919 [==============================] - 0s 37us/step - loss: 0.4708 - acc: 0.9017 - categorical_accuracy: 0.9017\n",
      "Epoch 85/100\n",
      "2919/2919 [==============================] - 0s 36us/step - loss: 0.4647 - acc: 0.9024 - categorical_accuracy: 0.9024\n",
      "Epoch 86/100\n",
      "2919/2919 [==============================] - 0s 37us/step - loss: 0.4569 - acc: 0.9041 - categorical_accuracy: 0.9041\n",
      "Epoch 87/100\n",
      "2919/2919 [==============================] - 0s 34us/step - loss: 0.4506 - acc: 0.9092 - categorical_accuracy: 0.9092\n",
      "Epoch 88/100\n",
      "2919/2919 [==============================] - 0s 35us/step - loss: 0.4438 - acc: 0.9096 - categorical_accuracy: 0.9096\n",
      "Epoch 89/100\n",
      "2919/2919 [==============================] - 0s 36us/step - loss: 0.4350 - acc: 0.9130 - categorical_accuracy: 0.9130\n",
      "Epoch 90/100\n",
      "2919/2919 [==============================] - 0s 33us/step - loss: 0.4293 - acc: 0.9137 - categorical_accuracy: 0.9137\n",
      "Epoch 91/100\n",
      "2919/2919 [==============================] - 0s 32us/step - loss: 0.4214 - acc: 0.9205 - categorical_accuracy: 0.9205\n",
      "Epoch 92/100\n",
      "2919/2919 [==============================] - 0s 32us/step - loss: 0.4148 - acc: 0.9229 - categorical_accuracy: 0.9229\n",
      "Epoch 93/100\n",
      "2919/2919 [==============================] - 0s 34us/step - loss: 0.4088 - acc: 0.9267 - categorical_accuracy: 0.9267\n",
      "Epoch 94/100\n",
      "2919/2919 [==============================] - 0s 32us/step - loss: 0.4012 - acc: 0.9257 - categorical_accuracy: 0.9257\n",
      "Epoch 95/100\n",
      "2919/2919 [==============================] - 0s 37us/step - loss: 0.3966 - acc: 0.9284 - categorical_accuracy: 0.9284\n",
      "Epoch 96/100\n",
      "2919/2919 [==============================] - 0s 39us/step - loss: 0.3909 - acc: 0.9311 - categorical_accuracy: 0.9311\n",
      "Epoch 97/100\n",
      "2919/2919 [==============================] - 0s 37us/step - loss: 0.3853 - acc: 0.9291 - categorical_accuracy: 0.9291\n",
      "Epoch 98/100\n",
      "2919/2919 [==============================] - 0s 36us/step - loss: 0.3781 - acc: 0.9349 - categorical_accuracy: 0.9349\n",
      "Epoch 99/100\n",
      "2919/2919 [==============================] - 0s 34us/step - loss: 0.3714 - acc: 0.9359 - categorical_accuracy: 0.9359\n",
      "Epoch 100/100\n",
      "2919/2919 [==============================] - 0s 32us/step - loss: 0.3659 - acc: 0.9394 - categorical_accuracy: 0.9394\n",
      "1251/1251 [==============================] - 0s 86us/step\n",
      "[[73 47 39 52 39]\n",
      " [55 61 43 55 41]\n",
      " [26 38 95 43 25]\n",
      " [49 42 40 63 63]\n",
      " [46 45 37 52 82]]\n",
      "             precision    recall  f1-score   support\n",
      "\n",
      "          A       0.29      0.29      0.29       250\n",
      "          B       0.26      0.24      0.25       255\n",
      "          C       0.37      0.42      0.40       227\n",
      "          D       0.24      0.25      0.24       257\n",
      "          E       0.33      0.31      0.32       262\n",
      "\n",
      "avg / total       0.30      0.30      0.30      1251\n",
      "\n"
     ]
    },
    {
     "name": "stderr",
     "output_type": "stream",
     "text": [
      "C:\\Users\\Dina\\Anaconda3\\lib\\site-packages\\sklearn\\preprocessing\\label.py:151: DeprecationWarning: The truth value of an empty array is ambiguous. Returning False, but in future this will result in an error. Use `array.size > 0` to check that an array is not empty.\n",
      "  if diff:\n",
      "C:\\Users\\Dina\\Anaconda3\\lib\\site-packages\\sklearn\\preprocessing\\label.py:151: DeprecationWarning: The truth value of an empty array is ambiguous. Returning False, but in future this will result in an error. Use `array.size > 0` to check that an array is not empty.\n",
      "  if diff:\n"
     ]
    }
   ],
   "source": [
    "# using the same ANN model, we train and test. \n",
    "# The resulting performance was an f1-score of 0.28. This is because the ANN overfitted on the training data (acurracy 0.9884)\n",
    "# and hence did not learn the classes properly.\n",
    "\n",
    "estimator.fit(X_train, y_train)\n",
    "\n",
    "predictions = estimator.predict(X_test)\n",
    "\n",
    "predictions_label = encoder.inverse_transform(predictions)\n",
    "y_test_int = np.argmax(y_test,1)\n",
    "y_test_label = encoder.inverse_transform(y_test_int)\n",
    "\n",
    "print(confusion_matrix(y_test_label,predictions_label))\n",
    "\n",
    "print(classification_report(y_test_label,predictions_label))"
   ]
  },
  {
   "cell_type": "code",
   "execution_count": null,
   "metadata": {
    "collapsed": true
   },
   "outputs": [],
   "source": []
  }
 ],
 "metadata": {
  "kernelspec": {
   "display_name": "Python 3",
   "language": "python",
   "name": "python3"
  },
  "language_info": {
   "codemirror_mode": {
    "name": "ipython",
    "version": 3
   },
   "file_extension": ".py",
   "mimetype": "text/x-python",
   "name": "python",
   "nbconvert_exporter": "python",
   "pygments_lexer": "ipython3",
   "version": "3.6.3"
  }
 },
 "nbformat": 4,
 "nbformat_minor": 2
}
